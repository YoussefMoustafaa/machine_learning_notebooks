{
 "cells": [
  {
   "cell_type": "markdown",
   "metadata": {},
   "source": [
    "# The Python Pickle Module\n",
    "\n",
    "    The pickle module is used for implementing binary protocols for serializing and de-serializing a Python object structure. \n",
    "\n",
    "        1= Pickling: It is a process where a Python object hierarchy is converted into a byte stream. \n",
    "\n",
    "        2- Unpickling: It is the inverse of the Pickling process where a byte stream is converted into an object hierarchy. \n",
    "\n",
    "    Module Interface\n",
    "\n",
    "        1-dumps() – This function is called to serialize an object hierarchy.\n",
    "\n",
    "        2-loads() – This function is called to de-serialize a data stream."
   ]
  },
  {
   "cell_type": "code",
   "execution_count": 1,
   "metadata": {},
   "outputs": [],
   "source": [
    "import pickle"
   ]
  },
  {
   "cell_type": "markdown",
   "metadata": {},
   "source": [
    "## Pickling without a File"
   ]
  },
  {
   "cell_type": "code",
   "execution_count": 3,
   "metadata": {},
   "outputs": [],
   "source": [
    "# initializing data to be stored in db\n",
    "Omkar = {'key' : 'Omkar', 'name' : 'Omkar Pathak', \n",
    "'age' : 21, 'pay' : 40000}\n",
    "Jagdish = {'key' : 'Jagdish', 'name' : 'Jagdish Pathak',\n",
    "'age' : 50, 'pay' : 50000}\n",
    " \n",
    "# database\n",
    "db = {}\n",
    "db['Omkar'] = Omkar\n",
    "db['Jagdish'] = Jagdish"
   ]
  },
  {
   "cell_type": "code",
   "execution_count": 4,
   "metadata": {},
   "outputs": [],
   "source": [
    "# For storing , type(b)  : gives <class 'bytes'>;\n",
    "b = pickle.dumps(db)   "
   ]
  },
  {
   "cell_type": "code",
   "execution_count": 5,
   "metadata": {},
   "outputs": [
    {
     "name": "stdout",
     "output_type": "stream",
     "text": [
      "<class 'bytes'>\n"
     ]
    }
   ],
   "source": [
    "print(type(b))"
   ]
  },
  {
   "cell_type": "code",
   "execution_count": 19,
   "metadata": {},
   "outputs": [
    {
     "data": {
      "text/plain": [
       "{'Omkar': {'key': 'Omkar', 'name': 'Omkar Pathak', 'age': 21, 'pay': 40000},\n",
       " 'Jagdish': {'key': 'Jagdish',\n",
       "  'name': 'Jagdish Pathak',\n",
       "  'age': 50,\n",
       "  'pay': 50000}}"
      ]
     },
     "execution_count": 19,
     "metadata": {},
     "output_type": "execute_result"
    }
   ],
   "source": [
    "db"
   ]
  },
  {
   "cell_type": "code",
   "execution_count": 18,
   "metadata": {},
   "outputs": [
    {
     "data": {
      "text/plain": [
       "b'\\x80\\x04\\x95n\\x00\\x00\\x00\\x00\\x00\\x00\\x00}\\x94(\\x8c\\x05Omkar\\x94}\\x94(\\x8c\\x03key\\x94h\\x01\\x8c\\x04name\\x94\\x8c\\x0cOmkar Pathak\\x94\\x8c\\x03age\\x94K\\x15\\x8c\\x03pay\\x94M@\\x9cu\\x8c\\x07Jagdish\\x94}\\x94(h\\x03h\\x08h\\x04\\x8c\\x0eJagdish Pathak\\x94h\\x06K2h\\x07MP\\xc3uu.'"
      ]
     },
     "execution_count": 18,
     "metadata": {},
     "output_type": "execute_result"
    }
   ],
   "source": [
    "b"
   ]
  },
  {
   "cell_type": "code",
   "execution_count": 4,
   "metadata": {},
   "outputs": [
    {
     "name": "stdout",
     "output_type": "stream",
     "text": [
      "{'Omkar': {'key': 'Omkar', 'name': 'Omkar Pathak', 'age': 21, 'pay': 40000}, 'Jagdish': {'key': 'Jagdish', 'name': 'Jagdish Pathak', 'age': 50, 'pay': 50000}}\n"
     ]
    }
   ],
   "source": [
    "# For loading\n",
    "myEntry = pickle.loads(b)\n",
    "print(myEntry)"
   ]
  },
  {
   "cell_type": "markdown",
   "metadata": {},
   "source": [
    "## Pickling with a File"
   ]
  },
  {
   "cell_type": "code",
   "execution_count": 7,
   "metadata": {},
   "outputs": [],
   "source": [
    "# initializing data to be stored in db\n",
    "Omkar = {'key' : 'Omkar', 'name' : 'Omkar Pathak',\n",
    "'age' : 21, 'pay' : 40000}\n",
    "Jagdish = {'key' : 'Jagdish', 'name' : 'Jagdish Pathak',\n",
    "'age' : 50, 'pay' : 50000}\n",
    " \n",
    "# database\n",
    "db = {}\n",
    "db['Omkar'] = Omkar\n",
    "db['Jagdish'] = Jagdish"
   ]
  },
  {
   "cell_type": "code",
   "execution_count": 8,
   "metadata": {},
   "outputs": [],
   "source": [
    "with open('db_file.pkl', 'wb') as f:  # open a text file\n",
    "    pickle.dump(db, f) # serialize the list"
   ]
  },
  {
   "cell_type": "code",
   "execution_count": 9,
   "metadata": {},
   "outputs": [
    {
     "name": "stdout",
     "output_type": "stream",
     "text": [
      "Omkar => {'key': 'Omkar', 'name': 'Omkar Pathak', 'age': 21, 'pay': 40000}\n",
      "Jagdish => {'key': 'Jagdish', 'name': 'Jagdish Pathak', 'age': 50, 'pay': 50000}\n"
     ]
    }
   ],
   "source": [
    "with open('db_file.pkl', 'rb') as f:\n",
    "\n",
    "    db = pickle.load(f) # deserialize using load()\n",
    "    for keys in db:\n",
    "        print(keys, '=>', db[keys])"
   ]
  },
  {
   "cell_type": "code",
   "execution_count": 10,
   "metadata": {},
   "outputs": [
    {
     "name": "stdout",
     "output_type": "stream",
     "text": [
      "Omkar => {'key': 'Omkar', 'name': 'Omkar Pathak', 'age': 21, 'pay': 40000}\n",
      "Jagdish => {'key': 'Jagdish', 'name': 'Jagdish Pathak', 'age': 50, 'pay': 50000}\n"
     ]
    }
   ],
   "source": [
    "with open('db_file.pkl', 'rb') as f:  # open a text file\n",
    "    raw_data = f.read()\n",
    "    db = pickle.loads(raw_data) # deserialize using loads()\n",
    "    for keys in db:\n",
    "        print(keys, '=>', db[keys])    "
   ]
  },
  {
   "cell_type": "code",
   "execution_count": 12,
   "metadata": {},
   "outputs": [
    {
     "data": {
      "text/plain": [
       "bytes"
      ]
     },
     "execution_count": 12,
     "metadata": {},
     "output_type": "execute_result"
    }
   ],
   "source": [
    "type(raw_data)"
   ]
  },
  {
   "cell_type": "code",
   "execution_count": 14,
   "metadata": {},
   "outputs": [],
   "source": [
    "student_names = ['Alice','Bob','Elena','Jane','Kyle']\n",
    "\n",
    "with open('student_file.pkl', 'wb') as f:  # open a text file\n",
    "    pickle.dump(student_names, f) # serialize the list"
   ]
  },
  {
   "cell_type": "code",
   "execution_count": 16,
   "metadata": {},
   "outputs": [
    {
     "name": "stdout",
     "output_type": "stream",
     "text": [
      "['Alice', 'Bob', 'Elena', 'Jane', 'Kyle']\n"
     ]
    }
   ],
   "source": [
    "with open('student_file.pkl', 'rb') as f:\n",
    "\n",
    "    student_names_loaded = pickle.load(f) # deserialize using load()\n",
    "    print(student_names_loaded) # print student names"
   ]
  },
  {
   "cell_type": "markdown",
   "metadata": {},
   "source": []
  }
 ],
 "metadata": {
  "kernelspec": {
   "display_name": "py310",
   "language": "python",
   "name": "python3"
  },
  "language_info": {
   "codemirror_mode": {
    "name": "ipython",
    "version": 3
   },
   "file_extension": ".py",
   "mimetype": "text/x-python",
   "name": "python",
   "nbconvert_exporter": "python",
   "pygments_lexer": "ipython3",
   "version": "3.10.14"
  }
 },
 "nbformat": 4,
 "nbformat_minor": 2
}
