{
 "cells": [
  {
   "cell_type": "code",
   "execution_count": 1,
   "metadata": {},
   "outputs": [],
   "source": [
    "from sklearn.neighbors import KNeighborsClassifier\n",
    "from sklearn.model_selection import train_test_split\n",
    "from sklearn import datasets"
   ]
  },
  {
   "cell_type": "code",
   "execution_count": 2,
   "metadata": {},
   "outputs": [],
   "source": [
    "# Load dataset\n",
    "X, y = datasets.load_iris(return_X_y=True)"
   ]
  },
  {
   "cell_type": "code",
   "execution_count": 3,
   "metadata": {},
   "outputs": [],
   "source": [
    "# Train/test split\n",
    "X_train, X_test, y_train, y_test = train_test_split(X, y, test_size=0.3, random_state=42)"
   ]
  },
  {
   "cell_type": "code",
   "execution_count": 4,
   "metadata": {},
   "outputs": [
    {
     "name": "stdout",
     "output_type": "stream",
     "text": [
      "Euclidean distance accuracy: 1.0\n"
     ]
    }
   ],
   "source": [
    "# Euclidean distance (default)\n",
    "knn_euclidean = KNeighborsClassifier(metric='euclidean')\n",
    "knn_euclidean.fit(X_train, y_train)\n",
    "print('Euclidean distance accuracy:', knn_euclidean.score(X_test, y_test))"
   ]
  },
  {
   "cell_type": "code",
   "execution_count": 5,
   "metadata": {},
   "outputs": [
    {
     "name": "stdout",
     "output_type": "stream",
     "text": [
      "Manhattan distance accuracy: 1.0\n"
     ]
    }
   ],
   "source": [
    "# Manhattan distance\n",
    "knn_manhattan = KNeighborsClassifier(metric='manhattan')\n",
    "knn_manhattan.fit(X_train, y_train)\n",
    "print('Manhattan distance accuracy:', knn_manhattan.score(X_test, y_test))"
   ]
  },
  {
   "cell_type": "code",
   "execution_count": 6,
   "metadata": {},
   "outputs": [
    {
     "name": "stdout",
     "output_type": "stream",
     "text": [
      "Minkowski distance (p=3) accuracy: 1.0\n"
     ]
    }
   ],
   "source": [
    "# Minkowski distance with p=3\n",
    "knn_minkowski = KNeighborsClassifier(metric='minkowski', p=3)\n",
    "knn_minkowski.fit(X_train, y_train)\n",
    "print('Minkowski distance (p=3) accuracy:', knn_minkowski.score(X_test, y_test))"
   ]
  },
  {
   "cell_type": "code",
   "execution_count": 7,
   "metadata": {},
   "outputs": [
    {
     "name": "stdout",
     "output_type": "stream",
     "text": [
      "Cosine distance accuracy: 1.0\n"
     ]
    }
   ],
   "source": [
    "# Cosine distance\n",
    "knn_cosine = KNeighborsClassifier(metric='cosine')\n",
    "knn_cosine.fit(X_train, y_train)\n",
    "print('Cosine distance accuracy:', knn_cosine.score(X_test, y_test))"
   ]
  }
 ],
 "metadata": {
  "kernelspec": {
   "display_name": "py310",
   "language": "python",
   "name": "python3"
  },
  "language_info": {
   "codemirror_mode": {
    "name": "ipython",
    "version": 3
   },
   "file_extension": ".py",
   "mimetype": "text/x-python",
   "name": "python",
   "nbconvert_exporter": "python",
   "pygments_lexer": "ipython3",
   "version": "3.10.14"
  }
 },
 "nbformat": 4,
 "nbformat_minor": 2
}
