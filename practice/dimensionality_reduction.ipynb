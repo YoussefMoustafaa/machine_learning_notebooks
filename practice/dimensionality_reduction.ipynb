{
  "cells": [
    {
      "cell_type": "markdown",
      "metadata": {
        "id": "T2Mu9i-uXWmF"
      },
      "source": [
        "# Dimensionality reduction techniques comparison"
      ]
    },
    {
      "cell_type": "markdown",
      "metadata": {
        "id": "b8FP4IkCXTVo"
      },
      "source": [
        "### Dataset\n",
        "\n"
      ]
    },
    {
      "cell_type": "markdown",
      "metadata": {
        "id": "xwVkTR97ueF0"
      },
      "source": [
        "For simplicity we use the Wine dataset from sklearn (UCI).\n",
        "\n",
        "Features:\n",
        "- alcohol\n",
        "- malic_acid\n",
        "- ash\n",
        "- alcalinity_of_ash\n",
        "- magnesium\n",
        "- total_phenols\n",
        "- flavanoids\n",
        "- nonflavanoid_phenols\n",
        "- proanthocyanins\n",
        "- color_intensity\n",
        "- hue\n",
        "- od280od315_of_diluted_wines'\n",
        "- proline\n",
        "\n",
        "Labels: Wine classes"
      ]
    },
    {
      "cell_type": "code",
      "execution_count": 1,
      "metadata": {
        "colab": {
          "base_uri": "https://localhost:8080/"
        },
        "id": "3BZwrBgQV92w",
        "outputId": "b0b8fef0-23e0-40e7-87fb-7dd7db77d141"
      },
      "outputs": [
        {
          "data": {
            "text/plain": [
              "(178, 13)"
            ]
          },
          "execution_count": 1,
          "metadata": {},
          "output_type": "execute_result"
        }
      ],
      "source": [
        "from sklearn.datasets import load_wine\n",
        "import numpy as np\n",
        "\n",
        "data = load_wine()\n",
        "features = data[\"data\"]\n",
        "labels = data[\"target\"]\n",
        "features.shape"
      ]
    },
    {
      "cell_type": "code",
      "execution_count": 2,
      "metadata": {
        "colab": {
          "base_uri": "https://localhost:8080/"
        },
        "id": "SLXy-xwXXJse",
        "outputId": "fe9b56d0-555f-4980-c85e-044bde5cbbc8"
      },
      "outputs": [
        {
          "name": "stderr",
          "output_type": "stream",
          "text": [
            "Matplotlib created a temporary cache directory at C:\\Users\\Dell\\AppData\\Local\\Temp\\matplotlib-r4a1l5me because the default path (C:\\Users\\Dell\\.matplotlib) is not a writable directory; it is highly recommended to set the MPLCONFIGDIR environment variable to a writable directory, in particular to speed up the import of Matplotlib and to better support multiprocessing.\n",
            "ERROR: Could not install packages due to an OSError: [WinError 5] Access is denied: 'C:\\\\Python312\\\\etc'\n",
            "Consider using the `--user` option or check the permissions.\n",
            "\n",
            "\n",
            "[notice] A new release of pip is available: 23.3.1 -> 24.2\n",
            "[notice] To update, run: python.exe -m pip install --upgrade pip\n"
          ]
        },
        {
          "ename": "ModuleNotFoundError",
          "evalue": "No module named 'ipyvolume'",
          "output_type": "error",
          "traceback": [
            "\u001b[1;31m---------------------------------------------------------------------------\u001b[0m",
            "\u001b[1;31mModuleNotFoundError\u001b[0m                       Traceback (most recent call last)",
            "Cell \u001b[1;32mIn[2], line 4\u001b[0m\n\u001b[0;32m      3\u001b[0m \u001b[38;5;28;01mtry\u001b[39;00m:\n\u001b[1;32m----> 4\u001b[0m   \u001b[38;5;28;01mimport\u001b[39;00m \u001b[38;5;21;01mipyvolume\u001b[39;00m \u001b[38;5;28;01mas\u001b[39;00m \u001b[38;5;21;01mipv\u001b[39;00m\n\u001b[0;32m      5\u001b[0m \u001b[38;5;28;01mexcept\u001b[39;00m:\n",
            "\u001b[1;31mModuleNotFoundError\u001b[0m: No module named 'ipyvolume'",
            "\nDuring handling of the above exception, another exception occurred:\n",
            "\u001b[1;31mModuleNotFoundError\u001b[0m                       Traceback (most recent call last)",
            "Cell \u001b[1;32mIn[2], line 7\u001b[0m\n\u001b[0;32m      5\u001b[0m \u001b[38;5;28;01mexcept\u001b[39;00m:\n\u001b[0;32m      6\u001b[0m   get_ipython()\u001b[38;5;241m.\u001b[39msystem(\u001b[38;5;124m'\u001b[39m\u001b[38;5;124mpip install ipyvolume -q\u001b[39m\u001b[38;5;124m'\u001b[39m)\n\u001b[1;32m----> 7\u001b[0m   \u001b[38;5;28;01mimport\u001b[39;00m \u001b[38;5;21;01mipyvolume\u001b[39;00m \u001b[38;5;28;01mas\u001b[39;00m \u001b[38;5;21;01mipv\u001b[39;00m\n\u001b[0;32m      8\u001b[0m   get_ipython()\u001b[38;5;241m.\u001b[39msystem(\u001b[38;5;124m'\u001b[39m\u001b[38;5;124mjupyter nbextension enable --py --sys-prefix ipyvolume\u001b[39m\u001b[38;5;124m'\u001b[39m)\n\u001b[0;32m     10\u001b[0m \u001b[38;5;28;01mdef\u001b[39;00m \u001b[38;5;21mvisualize_2d\u001b[39m(x, labels):\n",
            "\u001b[1;31mModuleNotFoundError\u001b[0m: No module named 'ipyvolume'"
          ]
        }
      ],
      "source": [
        "import seaborn as sns\n",
        "import matplotlib.pyplot as plt\n",
        "try:\n",
        "  import ipyvolume as ipv\n",
        "except:\n",
        "  !pip install ipyvolume -q\n",
        "  import ipyvolume as ipv\n",
        "  !jupyter nbextension enable --py --sys-prefix ipyvolume\n",
        "\n",
        "def visualize_2d(x, labels):\n",
        "    sns.scatterplot(x=x[:, 0], y=x[:, 1], hue=labels, s=100, alpha=0.8,\n",
        "                    palette=\"Greens\", edgecolor=\"black\")\n",
        "\n",
        "def visualize_3d(x, labels):\n",
        "    # Workaround as axis limits are not auto-scaling\n",
        "    x_norm = (x - x.min(axis=0)) / (x.max(axis=0) - x.min(axis=0))\n",
        "    fig = ipv.figure(height=400, width=400)\n",
        "    x, y, z = x_norm[:, 0], x_norm[:, 1], x_norm[:, 2]\n",
        "\n",
        "    # Colors\n",
        "    cmap = plt.get_cmap('Greens', 3)\n",
        "    color = cmap(labels)\n",
        "    ipv.scatter(x, y, z, size=4, marker=\"sphere\", color=color)\n",
        "    ipv.show()"
      ]
    },
    {
      "cell_type": "markdown",
      "metadata": {
        "id": "vkYfDhshXBq8"
      },
      "source": [
        "### PCA"
      ]
    },
    {
      "cell_type": "code",
      "execution_count": null,
      "metadata": {
        "colab": {
          "base_uri": "https://localhost:8080/"
        },
        "id": "2EsEdNhXDoLa",
        "outputId": "a8b7f6fd-77b0-469c-cbe8-0028ad1ce1c1"
      },
      "outputs": [
        {
          "name": "stdout",
          "output_type": "stream",
          "text": [
            "Eigenvalues: \n",
            " [2.75887696e+05 5.66833522e+01 1.34732230e+00]\n",
            "Eigenvectors: \n",
            " [[-0.55810925 -0.78959847  0.25504573]\n",
            " [-0.55046096  0.12232505 -0.82585066]\n",
            " [-0.62089193  0.60130761  0.50291387]]\n"
          ]
        }
      ],
      "source": [
        "# It's also possible to manually compute eigenvectors and eigenvalues\n",
        "subset_idx = 3\n",
        "cov = np.cov(features)[:subset_idx, :subset_idx]\n",
        "eig_vals, eig_vecs = np.linalg.eig(cov)\n",
        "print(\"Eigenvalues: \\n\", eig_vals)\n",
        "print(\"Eigenvectors: \\n\", eig_vecs)"
      ]
    },
    {
      "cell_type": "markdown",
      "metadata": {
        "id": "GCmJ56_Yr7yy"
      },
      "source": [
        "2D Projection"
      ]
    },
    {
      "cell_type": "code",
      "execution_count": null,
      "metadata": {
        "colab": {
          "base_uri": "https://localhost:8080/",
          "height": 465
        },
        "id": "R_UWS5FjXWLZ",
        "outputId": "ff34d6d2-bc55-4894-e452-d7867464714f"
      },
      "outputs": [
        {
          "name": "stdout",
          "output_type": "stream",
          "text": [
            "CPU times: user 2.45 ms, sys: 160 µs, total: 2.61 ms\n",
            "Wall time: 2.74 ms\n"
          ]
        },
        {
          "data": {
            "image/png": "[encoded data removed]",
            "text/plain": [
              "<Figure size 640x480 with 1 Axes>"
            ]
          },
          "metadata": {},
          "output_type": "display_data"
        }
      ],
      "source": [
        "from sklearn.decomposition import PCA\n",
        "\n",
        "pca = PCA(n_components=2)\n",
        "%time pca_2d = pca.fit_transform(features)\n",
        "visualize_2d(x=pca_2d, labels=labels)"
      ]
    },
    {
      "cell_type": "code",
      "execution_count": null,
      "metadata": {
        "colab": {
          "base_uri": "https://localhost:8080/"
        },
        "id": "_Jl-kZFysET8",
        "outputId": "7f64baa4-e10e-4d44-9ba3-926ae573d42e"
      },
      "outputs": [
        {
          "name": "stdout",
          "output_type": "stream",
          "text": [
            "Eigenvalues: \n",
            " [0.99809123 0.00173592]\n",
            "Eigenvectors: \n",
            " [[ 1.65926472e-03 -6.81015556e-04  1.94905742e-04 -4.67130058e-03\n",
            "   1.78680075e-02  9.89829680e-04  1.56728830e-03 -1.23086662e-04\n",
            "   6.00607792e-04  2.32714319e-03  1.71380037e-04  7.04931645e-04\n",
            "   9.99822937e-01]\n",
            " [ 1.20340617e-03  2.15498184e-03  4.59369254e-03  2.64503930e-02\n",
            "   9.99344186e-01  8.77962152e-04 -5.18507284e-05 -1.35447892e-03\n",
            "   5.00440040e-03  1.51003530e-02 -7.62673115e-04 -3.49536431e-03\n",
            "  -1.77738095e-02]]\n"
          ]
        }
      ],
      "source": [
        "print(\"Eigenvalues: \\n\", pca.explained_variance_ratio_)\n",
        "print(\"Eigenvectors: \\n\", pca.components_)\n"
      ]
    },
    {
      "cell_type": "markdown",
      "metadata": {
        "id": "jOfNM5vZr_FF"
      },
      "source": [
        "3D Projection"
      ]
    },
    {
      "cell_type": "code",
      "execution_count": null,
      "metadata": {
        "colab": {
          "base_uri": "https://localhost:8080/",
          "height": 487,
          "referenced_widgets": [
            "d673fabf61ee4eefbafc94ced02e2292",
            "c436181ca22c4f819d7d972cf1fc43ce",
            "d1eb8364ff9d4bf4b9fc71b2fe8ef94c",
            "8fedea2729684f1f920493a4bd31a35f",
            "65a61477838b4764b3dbc81e0fadc592",
            "3804daa4b5eb43d18fa907fc55883663",
            "3b61a7d8d99243a89b4e355cc7cbec34",
            "6f03db6839334eb2af87dd50d23c66fc",
            "f1054625a94e4005af1c6da90e52efd3",
            "d971515d40a84afea5a7aa2a69835a99",
            "6a50c3b5d5c6481098d1c27067ca6429",
            "8480ceed1b984bdfb1b030d28113a224",
            "de72ad53fde640a1bc1a9ac44b0a2510",
            "0b3afe380a6b4df78ae088e1e6b45aa6",
            "ee2312dfdc334d4ba407700ff084c812",
            "b8730366430644d8881d0e406cdb3cc2",
            "595b0eeb82bc4c9db9898c8fa1c61b83"
          ]
        },
        "id": "uCJVO5VqXi-6",
        "outputId": "3ca5d6d0-df09-419c-a031-eafdafc077db"
      },
      "outputs": [
        {
          "name": "stdout",
          "output_type": "stream",
          "text": [
            "CPU times: user 1.42 ms, sys: 50 µs, total: 1.47 ms\n",
            "Wall time: 1.49 ms\n"
          ]
        },
        {
          "data": {
            "application/vnd.jupyter.widget-view+json": {
              "model_id": "d673fabf61ee4eefbafc94ced02e2292",
              "version_major": 2,
              "version_minor": 0
            },
            "text/plain": [
              "Html(layout=None, style_='display: none', tag='span')"
            ]
          },
          "metadata": {
            "application/vnd.jupyter.widget-view+json": {
              "colab": {
                "custom_widget_manager": {
                  "url": "https://ssl.gstatic.com/colaboratory-static/widgets/colab-cdn-widget-manager/b3e629b1971e1542/manager.min.js"
                }
              }
            }
          },
          "output_type": "display_data"
        },
        {
          "data": {
            "application/vnd.jupyter.widget-view+json": {
              "model_id": "c436181ca22c4f819d7d972cf1fc43ce",
              "version_major": 2,
              "version_minor": 0
            },
            "text/plain": [
              "Container(figure=Figure(box_center=[0.5, 0.5, 0.5], box_size=[1.0, 1.0, 1.0], camera=PerspectiveCamera(fov=45.…"
            ]
          },
          "metadata": {
            "application/vnd.jupyter.widget-view+json": {
              "colab": {
                "custom_widget_manager": {
                  "url": "https://ssl.gstatic.com/colaboratory-static/widgets/colab-cdn-widget-manager/b3e629b1971e1542/manager.min.js"
                }
              }
            }
          },
          "output_type": "display_data"
        }
      ],
      "source": [
        "pca = PCA(n_components=3)\n",
        "%time pca_3d = pca.fit_transform(features)\n",
        "visualize_3d(pca_3d, labels)"
      ]
    },
    {
      "cell_type": "markdown",
      "metadata": {
        "id": "jq1pxpnKXDmC"
      },
      "source": [
        "### MDS"
      ]
    },
    {
      "cell_type": "code",
      "execution_count": null,
      "metadata": {
        "colab": {
          "base_uri": "https://localhost:8080/"
        },
        "id": "mRPVbjpB5Rcc",
        "outputId": "c0ef8780-2e24-401a-c84e-55025bc328aa"
      },
      "outputs": [
        {
          "data": {
            "text/plain": [
              "array([[  0.  ,  51.06, 152.48, ..., 257.14, 249.41, 558.28],\n",
              "       [ 51.06,   0.  , 148.3 , ..., 257.98, 250.55, 521.18],\n",
              "       [152.48, 148.3 ,   0.  , ..., 384.76, 376.83, 649.14],\n",
              "       ...,\n",
              "       [257.14, 257.98, 384.76, ...,   0.  ,   8.15, 306.74],\n",
              "       [249.41, 250.55, 376.83, ...,   8.15,   0.  , 312.09],\n",
              "       [558.28, 521.18, 649.14, ..., 306.74, 312.09,   0.  ]])"
            ]
          },
          "execution_count": 3,
          "metadata": {},
          "output_type": "execute_result"
        }
      ],
      "source": [
        "# Precompute distance\n",
        "from sklearn.metrics.pairwise import manhattan_distances\n",
        "\n",
        "d_matrix = manhattan_distances(features)\n",
        "d_matrix"
      ]
    },
    {
      "cell_type": "code",
      "execution_count": null,
      "metadata": {
        "colab": {
          "base_uri": "https://localhost:8080/",
          "height": 777
        },
        "id": "mALKH9NE5eVw",
        "outputId": "2dba73c9-26bc-4bdd-9ad1-cce13cc2d610"
      },
      "outputs": [
        {
          "name": "stdout",
          "output_type": "stream",
          "text": [
            "Distance matrix of the first 10 data points...\n"
          ]
        },
        {
          "data": {
            "text/plain": [
              "<Axes: >"
            ]
          },
          "execution_count": 5,
          "metadata": {},
          "output_type": "execute_result"
        },
        {
          "data": {
            "image/png": "[encoded data removed]",
            "text/plain": [
              "<Figure size 1100x900 with 2 Axes>"
            ]
          },
          "metadata": {},
          "output_type": "display_data"
        }
      ],
      "source": [
        "import seaborn as sns\n",
        "print(\"Distance matrix of the first 10 data points...\")\n",
        "distances = d_matrix[:10, :10]\n",
        "\n",
        "mask = np.triu(np.ones_like(distances, dtype=bool))\n",
        "\n",
        "# Set up the matplotlib figure\n",
        "f, ax = plt.subplots(figsize=(11, 9))\n",
        "\n",
        "# Generate a custom diverging colormap\n",
        "cmap = sns.diverging_palette(230, 20, as_cmap=True)\n",
        "\n",
        "# Draw the heatmap with the mask and correct aspect ratio\n",
        "sns.heatmap(distances, mask=mask, cmap=cmap, vmax=distances.max(), center=0,\n",
        "            square=True, linewidths=.5, cbar_kws={\"shrink\": .5})"
      ]
    },
    {
      "cell_type": "code",
      "execution_count": null,
      "metadata": {
        "colab": {
          "base_uri": "https://localhost:8080/",
          "height": 477,
          "referenced_widgets": [
            "4c2654f702ea446ca9d5c9faee75323d",
            "dda9ae6cbb0548aa8d17aada053a29b2",
            "54ded0a1f63640a7ba57bbe8133fb416",
            "48bc94faf047424d904440c2b4add96d",
            "c81e060bf8204253a1a62a0cab41fa47",
            "3784fab3eeaa47cf96d81e9fed2a8fcd",
            "66eabad37349445b885126183b2cc9e6",
            "4e1e62e7203d41dc988ebdb705b8865e",
            "1e0f832718884795a66b5298f76d5849",
            "01329d4b71484b26839a0ad7e03e3fa0",
            "fccefc6b6eec47c7b06e30ca426d3899",
            "d5c29923c1a74f0881f58f7b67078818",
            "54090b4ff19049e4b682599cdf4878e8",
            "c16922b46d8d418ab9beda8e5aa483bf",
            "21c7343e5a90449199dd29d07a16cca6",
            "6d9be9bf1d03425b899b0e18364c061e",
            "f9a93d3f779146a5bfb98c54cbefd70f"
          ]
        },
        "id": "zIwKtuNeagX9",
        "outputId": "3bcd8058-f90c-48f7-d66e-19507665b031"
      },
      "outputs": [
        {
          "name": "stdout",
          "output_type": "stream",
          "text": [
            "CPU times: user 1.13 s, sys: 888 ms, total: 2.02 s\n",
            "Wall time: 1.07 s\n"
          ]
        },
        {
          "data": {
            "application/vnd.jupyter.widget-view+json": {
              "model_id": "4c2654f702ea446ca9d5c9faee75323d",
              "version_major": 2,
              "version_minor": 0
            },
            "text/plain": [
              "Html(layout=None, style_='display: none', tag='span')"
            ]
          },
          "metadata": {
            "application/vnd.jupyter.widget-view+json": {
              "colab": {
                "custom_widget_manager": {
                  "url": "https://ssl.gstatic.com/colaboratory-static/widgets/colab-cdn-widget-manager/b3e629b1971e1542/manager.min.js"
                }
              }
            }
          },
          "output_type": "display_data"
        },
        {
          "data": {
            "application/vnd.jupyter.widget-view+json": {
              "model_id": "dda9ae6cbb0548aa8d17aada053a29b2",
              "version_major": 2,
              "version_minor": 0
            },
            "text/plain": [
              "Container(figure=Figure(box_center=[0.5, 0.5, 0.5], box_size=[1.0, 1.0, 1.0], camera=PerspectiveCamera(fov=45.…"
            ]
          },
          "metadata": {
            "application/vnd.jupyter.widget-view+json": {
              "colab": {
                "custom_widget_manager": {
                  "url": "https://ssl.gstatic.com/colaboratory-static/widgets/colab-cdn-widget-manager/b3e629b1971e1542/manager.min.js"
                }
              }
            }
          },
          "output_type": "display_data"
        }
      ],
      "source": [
        "from sklearn.manifold import MDS\n",
        "\n",
        "mds = MDS(n_components=3,\n",
        "          normalized_stress=False,\n",
        "          metric=True,\n",
        "          dissimilarity=\"precomputed\",\n",
        "          random_state=2023,\n",
        "          eps=1e-9)\n",
        "%time mds_3d = mds.fit_transform(d_matrix)\n",
        "visualize_3d(mds_3d, labels)"
      ]
    },
    {
      "cell_type": "markdown",
      "metadata": {
        "id": "YjheWxwFHPUB"
      },
      "source": [
        "Note: It works better with Manhatten distances - most likely the high dimension is a problem using the euclidean distance"
      ]
    },
    {
      "cell_type": "code",
      "execution_count": null,
      "metadata": {
        "colab": {
          "base_uri": "https://localhost:8080/"
        },
        "id": "xsnxAFY92Tjq",
        "outputId": "f41efbfc-8c8d-4d43-c899-3b487dd802bc"
      },
      "outputs": [
        {
          "name": "stdout",
          "output_type": "stream",
          "text": [
            "Raw stress:  882441.0641476295\n"
          ]
        }
      ],
      "source": [
        "print(\"Raw stress: \", mds.stress_)"
      ]
    },
    {
      "cell_type": "code",
      "execution_count": null,
      "metadata": {
        "colab": {
          "base_uri": "https://localhost:8080/",
          "height": 465
        },
        "id": "dO2xvR42QMV_",
        "outputId": "ccfa2339-dd21-4aa7-feaa-8e752a25a4ac"
      },
      "outputs": [
        {
          "name": "stdout",
          "output_type": "stream",
          "text": [
            "CPU times: user 1.12 s, sys: 849 ms, total: 1.97 s\n",
            "Wall time: 1.03 s\n"
          ]
        },
        {
          "data": {
            "image/png": "[encoded data removed]",
            "text/plain": [
              "<Figure size 640x480 with 1 Axes>"
            ]
          },
          "metadata": {},
          "output_type": "display_data"
        }
      ],
      "source": [
        "mds = MDS(n_components=2, normalized_stress=False, eps=1e-9)\n",
        "%time mds_2d = mds.fit_transform(features)\n",
        "visualize_2d(mds_2d, labels)"
      ]
    },
    {
      "cell_type": "markdown",
      "metadata": {
        "id": "yXDvxsoo7mBE"
      },
      "source": []
    },
    {
      "cell_type": "markdown",
      "metadata": {
        "id": "qblaXaOWXFPq"
      },
      "source": [
        "### TSNE"
      ]
    },
    {
      "cell_type": "code",
      "execution_count": null,
      "metadata": {
        "colab": {
          "base_uri": "https://localhost:8080/",
          "height": 477,
          "referenced_widgets": [
            "37819a40f7b144b6b072ab9949fb6cde",
            "811b98fd4ee34c15a2946e2f09de871e",
            "e2983540055a4bb995b0c137c6334fee",
            "e8e1525f77544820992121ae0d8eda83",
            "1fd39f469c00449ca7ba556794e17010",
            "a15caeae4b124685a82dd713691b4138",
            "f9c89db3a58444859cce1662a4d0b29f",
            "2d4c439a368f49c795dff725ef660e42",
            "9c8aec626c6e496c881dcddc23c1eea3",
            "9b604ca0bf7c460387b89cdc90b46450",
            "e4227e0ebe324c258bb7b3c2a908c2fb",
            "fe570fa2ae1248a89efb99099d2b6d1f",
            "0bdbfe45c6694739b2b6614ed118643b",
            "0da368c44ada4278965f36065e43d7a6",
            "a7213123ac364abb882e825e299e5433",
            "c4b61bc74f7246338c67bb793e0c997d",
            "0848fe7e08c24d828dde279f51ce98d7"
          ]
        },
        "id": "mcUFLFOoeqZ7",
        "outputId": "aa6eef99-24d1-402d-a0a7-9a10487e95d0"
      },
      "outputs": [
        {
          "name": "stdout",
          "output_type": "stream",
          "text": [
            "CPU times: user 7.57 s, sys: 21.8 ms, total: 7.59 s\n",
            "Wall time: 9.27 s\n"
          ]
        },
        {
          "data": {
            "application/vnd.jupyter.widget-view+json": {
              "model_id": "37819a40f7b144b6b072ab9949fb6cde",
              "version_major": 2,
              "version_minor": 0
            },
            "text/plain": [
              "Html(layout=None, style_='display: none', tag='span')"
            ]
          },
          "metadata": {
            "application/vnd.jupyter.widget-view+json": {
              "colab": {
                "custom_widget_manager": {
                  "url": "https://ssl.gstatic.com/colaboratory-static/widgets/colab-cdn-widget-manager/2b70e893a8ba7c0f/manager.min.js"
                }
              }
            }
          },
          "output_type": "display_data"
        },
        {
          "data": {
            "application/vnd.jupyter.widget-view+json": {
              "model_id": "811b98fd4ee34c15a2946e2f09de871e",
              "version_major": 2,
              "version_minor": 0
            },
            "text/plain": [
              "Container(figure=Figure(box_center=[0.5, 0.5, 0.5], box_size=[1.0, 1.0, 1.0], camera=PerspectiveCamera(fov=45.…"
            ]
          },
          "metadata": {
            "application/vnd.jupyter.widget-view+json": {
              "colab": {
                "custom_widget_manager": {
                  "url": "https://ssl.gstatic.com/colaboratory-static/widgets/colab-cdn-widget-manager/2b70e893a8ba7c0f/manager.min.js"
                }
              }
            }
          },
          "output_type": "display_data"
        }
      ],
      "source": [
        "from sklearn.manifold import TSNE\n",
        "\n",
        "%time tsne_3d = TSNE(n_components=3, perplexity=10, early_exaggeration=12, learning_rate='auto', init='pca', n_jobs=4).fit_transform(features)\n",
        "visualize_3d(tsne_3d, labels)"
      ]
    },
    {
      "cell_type": "code",
      "execution_count": null,
      "metadata": {
        "colab": {
          "base_uri": "https://localhost:8080/",
          "height": 469
        },
        "id": "_-XmSpLRQV5H",
        "outputId": "0ab596f4-ed54-4925-aeb5-4fc2b064124d"
      },
      "outputs": [
        {
          "name": "stdout",
          "output_type": "stream",
          "text": [
            "CPU times: user 1.25 s, sys: 7.55 ms, total: 1.26 s\n",
            "Wall time: 668 ms\n"
          ]
        },
        {
          "data": {
            "image/png": "[encoded data removed]",
            "text/plain": [
              "<Figure size 640x480 with 1 Axes>"
            ]
          },
          "metadata": {},
          "output_type": "display_data"
        }
      ],
      "source": [
        "%time tsne_2d = TSNE(n_components=2, perplexity=10, early_exaggeration=12, learning_rate='auto', init='random', n_jobs=4).fit_transform(features)\n",
        "visualize_2d(tsne_2d, labels)"
      ]
    },
    {
      "cell_type": "markdown",
      "metadata": {
        "id": "mOeZnhdSXG0w"
      },
      "source": [
        "### UMAP"
      ]
    },
    {
      "cell_type": "code",
      "execution_count": null,
      "metadata": {
        "colab": {
          "base_uri": "https://localhost:8080/",
          "height": 511,
          "referenced_widgets": [
            "bc0f93b2ee2345bbabf31e52ed81a2ff",
            "48de45819ff540e1a9ecb87aa4df3869",
            "f7c9591056f54f81b5f806c7b75e46b3",
            "73ea65be50d04172a07be5c2aacc3ffc",
            "46a56546626143129b3d7f02f64c02cc",
            "415778cbf0db415ba1ad1852a530914c",
            "a256faf67a044494a087bda2796fe839",
            "4a2dff878a594a179d402df9f6449a07",
            "80afef29d68c4720a79cf8dc1b0d2c7c",
            "6aa8647ee6314d57828d6ecb2550fd5e",
            "837b819da72d4ee5a77745dfb8d7c991",
            "0e59449ec19b475389fa8bb097b9044f",
            "2135177bb77a4554be718650f57b3f53",
            "a2b3011c4003425e8c5aadfee31b646c",
            "7efa0c4c3db14096965f29c07bfc2d9a",
            "193e2716acc04fbca2fb04e6c68abdd3",
            "8ebc3f3432a54252bf17325f07557e69"
          ]
        },
        "id": "WYbZ5eamXdDc",
        "outputId": "f4568a77-f0cc-4965-fbea-79c18f872b1f"
      },
      "outputs": [
        {
          "name": "stdout",
          "output_type": "stream",
          "text": [
            "\u001b[?25l     \u001b[90m━━━━━━━━━━━━━━━━━━━━━━━━━━━━━━━━━━━━━━━━\u001b[0m \u001b[32m0.0/85.7 kB\u001b[0m \u001b[31m?\u001b[0m eta \u001b[36m-:--:--\u001b[0m\r\u001b[2K     \u001b[90m━━━━━━━━━━━━━━━━━━━━━━━━━━━━━━━━━━━━━━━━\u001b[0m \u001b[32m85.7/85.7 kB\u001b[0m \u001b[31m2.4 MB/s\u001b[0m eta \u001b[36m0:00:00\u001b[0m\n",
            "\u001b[?25h\u001b[?25l     \u001b[90m━━━━━━━━━━━━━━━━━━━━━━━━━━━━━━━━━━━━━━━━\u001b[0m \u001b[32m0.0/56.8 kB\u001b[0m \u001b[31m?\u001b[0m eta \u001b[36m-:--:--\u001b[0m\r\u001b[2K     \u001b[90m━━━━━━━━━━━━━━━━━━━━━━━━━━━━━━━━━━━━━━━━\u001b[0m \u001b[32m56.8/56.8 kB\u001b[0m \u001b[31m5.6 MB/s\u001b[0m eta \u001b[36m0:00:00\u001b[0m\n",
            "\u001b[?25hCPU times: user 9.56 s, sys: 90.6 ms, total: 9.65 s\n",
            "Wall time: 9.69 s\n"
          ]
        },
        {
          "data": {
            "application/vnd.jupyter.widget-view+json": {
              "model_id": "bc0f93b2ee2345bbabf31e52ed81a2ff",
              "version_major": 2,
              "version_minor": 0
            },
            "text/plain": [
              "Html(layout=None, style_='display: none', tag='span')"
            ]
          },
          "metadata": {
            "application/vnd.jupyter.widget-view+json": {
              "colab": {
                "custom_widget_manager": {
                  "url": "https://ssl.gstatic.com/colaboratory-static/widgets/colab-cdn-widget-manager/2b70e893a8ba7c0f/manager.min.js"
                }
              }
            }
          },
          "output_type": "display_data"
        },
        {
          "data": {
            "application/vnd.jupyter.widget-view+json": {
              "model_id": "48de45819ff540e1a9ecb87aa4df3869",
              "version_major": 2,
              "version_minor": 0
            },
            "text/plain": [
              "Container(figure=Figure(box_center=[0.5, 0.5, 0.5], box_size=[1.0, 1.0, 1.0], camera=PerspectiveCamera(fov=45.…"
            ]
          },
          "metadata": {
            "application/vnd.jupyter.widget-view+json": {
              "colab": {
                "custom_widget_manager": {
                  "url": "https://ssl.gstatic.com/colaboratory-static/widgets/colab-cdn-widget-manager/2b70e893a8ba7c0f/manager.min.js"
                }
              }
            }
          },
          "output_type": "display_data"
        }
      ],
      "source": [
        "try:\n",
        "  import umap.umap_ as umap\n",
        "except:\n",
        "  !pip install umap-learn -q\n",
        "  import umap.umap_ as umap\n",
        "\n",
        "\n",
        "reducer = umap.UMAP(n_components=3, n_neighbors=15, min_dist=0.1, metric='euclidean')\n",
        "%time umap_3d = reducer.fit_transform(features)\n",
        "visualize_3d(umap_3d, labels)"
      ]
    },
    {
      "cell_type": "code",
      "execution_count": null,
      "metadata": {
        "colab": {
          "base_uri": "https://localhost:8080/",
          "height": 465
        },
        "id": "X0uTw9IfQhi4",
        "outputId": "18ac187b-cbfb-4e01-8063-91f6b7665b09"
      },
      "outputs": [
        {
          "name": "stdout",
          "output_type": "stream",
          "text": [
            "CPU times: user 2.6 s, sys: 25.1 ms, total: 2.63 s\n",
            "Wall time: 2.46 s\n"
          ]
        },
        {
          "data": {
            "image/png": "[encoded data removed]",
            "text/plain": [
              "<Figure size 640x480 with 1 Axes>"
            ]
          },
          "metadata": {},
          "output_type": "display_data"
        }
      ],
      "source": [
        "reducer = reducer = umap.UMAP(n_components=2, n_neighbors=15, min_dist=0.1, metric='euclidean')\n",
        "%time umap_2d = reducer.fit_transform(features)\n",
        "visualize_2d(umap_2d, labels)"
      ]
    }
  ],
  "metadata": {
    "colab": {
      "collapsed_sections": [
        "b8FP4IkCXTVo",
        "vkYfDhshXBq8",
        "jq1pxpnKXDmC",
        "qblaXaOWXFPq",
        "mOeZnhdSXG0w"
      ],
      "provenance": []
    },
    "kernelspec": {
      "display_name": "Python 3",
      "name": "python3"
    },
    "language_info": {
      "codemirror_mode": {
        "name": "ipython",
        "version": 3
      },
      "file_extension": ".py",
      "mimetype": "text/x-python",
      "name": "python",
      "nbconvert_exporter": "python",
      "pygments_lexer": "ipython3",
      "version": "3.12.0"
    },
    "widgets": {
      "application/vnd.jupyter.widget-state+json": {
        "01329d4b71484b26839a0ad7e03e3fa0": {
          "model_module": "@jupyter-widgets/base",
          "model_module_version": "1.2.0",
          "model_name": "LayoutModel",
          "state": {
            "_model_module": "@jupyter-widgets/base",
            "_model_module_version": "1.2.0",
            "_model_name": "LayoutModel",
            "_view_count": null,
            "_view_module": "@jupyter-widgets/base",
            "_view_module_version": "1.2.0",
            "_view_name": "LayoutView",
            "align_content": null,
            "align_items": null,
            "align_self": null,
            "border": null,
            "bottom": null,
            "display": null,
            "flex": null,
            "flex_flow": null,
            "grid_area": null,
            "grid_auto_columns": null,
            "grid_auto_flow": null,
            "grid_auto_rows": null,
            "grid_column": null,
            "grid_gap": null,
            "grid_row": null,
            "grid_template_areas": null,
            "grid_template_columns": null,
            "grid_template_rows": null,
            "height": null,
            "justify_content": null,
            "justify_items": null,
            "left": null,
            "margin": null,
            "max_height": null,
            "max_width": null,
            "min_height": null,
            "min_width": null,
            "object_fit": null,
            "object_position": null,
            "order": null,
            "overflow": null,
            "overflow_x": null,
            "overflow_y": null,
            "padding": null,
            "right": null,
            "top": null,
            "visibility": null,
            "width": null
          }
        },
        "0848fe7e08c24d828dde279f51ce98d7": {
          "model_module": "jupyter-vuetify",
          "model_module_version": "^1.8.10",
          "model_name": "VuetifyTemplateModel",
          "state": {
            "_component_instances": [],
            "_dom_classes": [],
            "_jupyter_vue": "IPY_MODEL_8339f2a9171c4bbd9b46173bd17d7340",
            "_model_module": "jupyter-vuetify",
            "_model_module_version": "^1.8.10",
            "_model_name": "VuetifyTemplateModel",
            "_view_count": null,
            "_view_module": "jupyter-vuetify",
            "_view_module_version": "^1.8.10",
            "_view_name": "VuetifyView",
            "components": null,
            "css": null,
            "data": null,
            "events": [],
            "figure": "IPY_MODEL_c4b61bc74f7246338c67bb793e0c997d",
            "layout": "IPY_MODEL_9b604ca0bf7c460387b89cdc90b46450",
            "methods": null,
            "models": {
              "figure": {
                "meshes": [],
                "scatters": [
                  {
                    "description": "Scatter 0",
                    "description_color": "red",
                    "hovered": false,
                    "icon": "mdi-chart-bubble",
                    "visible": true
                  }
                ],
                "stereo": false,
                "volumes": []
              }
            },
            "template": "IPY_MODEL_e4227e0ebe324c258bb7b3c2a908c2fb"
          }
        },
        "0b3afe380a6b4df78ae088e1e6b45aa6": {
          "model_module": "ipyvolume",
          "model_module_version": "~0.6.3",
          "model_name": "ScatterModel",
          "state": {
            "_model_module": "ipyvolume",
            "_model_module_version": "~0.6.3",
            "_model_name": "ScatterModel",
            "_view_count": null,
            "_view_module": "ipyvolume",
            "_view_module_version": "~0.6.3",
            "_view_name": "ScatterView",
            "aux": null,
            "aux_scale": null,
            "cast_shadow": true,
            "clicked": null,
            "clicked_index": null,
            "color": [
              {
                "dtype": "float32",
                "shape": [
                  178,
                  4
                ]
              }
            ],
            "color_scale": null,
            "color_selected": "white",
            "connected": false,
            "description": "Scatter 0",
            "description_color": "red",
            "geo": "sphere",
            "geo_matrix": [
              1,
              0,
              0,
              0,
              0,
              1,
              0,
              0,
              0,
              0,
              1,
              0,
              0,
              0,
              0,
              1
            ],
            "hovered": false,
            "hovered_index": null,
            "icon": "mdi-chart-bubble",
            "line_material": "IPY_MODEL_b8730366430644d8881d0e406cdb3cc2",
            "material": "IPY_MODEL_595b0eeb82bc4c9db9898c8fa1c61b83",
            "popup": null,
            "receive_shadow": true,
            "selected": null,
            "sequence_index": 0,
            "shader_snippets": {
              "size": "\n"
            },
            "size": 4,
            "size_selected": 2.6,
            "size_x_scale": null,
            "size_y_scale": null,
            "size_z_scale": null,
            "texture": null,
            "visible": true,
            "vx": null,
            "vy": null,
            "vz": null,
            "x": [
              {
                "dtype": "float32",
                "shape": [
                  178
                ]
              }
            ],
            "y": [
              {
                "dtype": "float32",
                "shape": [
                  178
                ]
              }
            ],
            "z": [
              {
                "dtype": "float32",
                "shape": [
                  178
                ]
              }
            ]
          }
        },
        "0bdbfe45c6694739b2b6614ed118643b": {
          "model_module": "jupyter-vue",
          "model_module_version": "^1.10.1",
          "model_name": "TemplateModel",
          "state": {
            "_model_module": "jupyter-vue",
            "_model_module_version": "^1.10.1",
            "_model_name": "TemplateModel",
            "_view_count": null,
            "_view_module": null,
            "_view_module_version": "",
            "_view_name": null,
            "template": "<template>\n    <div class=\"ipyvolume-container-root\">\n        <jupyter-widget ref=\"figure\" :widget=\"figure\"></jupyter-widget>\n        <div class=ipyvolume-container-controls>\n            <v-expansion-panels accordion multiple v-model=\"panels\" flat>\n                <v-expansion-panel>\n                    <v-expansion-panel-header>Legend</v-expansion-panel-header>\n                    <v-expansion-panel-content>\n                        <jupyter-widget ref=\"legend\" :widget=\"legend\"></jupyter-widget>\n                    </v-expansion-panel-content>\n                </v-expansion-panel>\n                <v-expansion-panel>\n                    <v-expansion-panel-header>Misc</v-expansion-panel-header>\n                    <v-expansion-panel-content>\n                        <jupyter-widget v-for=\"child in children\" :key=\"child\" :widget=\"child\"></jupyter-widget>\n                    </v-expansion-panel-content>\n                </v-expansion-panel>\n                <v-expansion-panel>\n                    <v-expansion-panel-header>Debug</v-expansion-panel-header>\n                    <v-expansion-panel-content>\n                        <p>Show render pass:</p>\n                        <v-btn-toggle v-model=\"models.figure.show\" tile group>\n                            <v-btn value=\"render\">Render</v-btn>\n                            <v-btn value=\"front\">Front</v-btn>\n                            <v-btn value=\"back\">Back</v-btn>\n                            <v-btn value=\"id\">ID</v-btn>\n                            <v-btn value=\"coordinate\">Coordinate</v-btn>\n                        </v-btn-toggle>\n                    </v-expansion-panel-content>\n                </v-expansion-panel>\n            </v-expansion-panels>\n        </div>\n    </div>\n</template>\n<style id=\"ipyvolume-container\">\n    .ipyvolume-container-root {\n        display: flex;\n    }\n    .ipyvolume-container-controls {\n        display: flex;\n        flex-direction: column;\n    }\n</style>\n\n<script>\n    module.export = {\n        created() {\n            console.log('created', this.$refs)\n        },\n        mounted() {\n            const figureComponent = this.$refs.figure;\n            (async () => {\n                const figure = await this.viewCtx.getModelById(this.figure.substr(10));\n                function bbproxy(model, attrs, widgetAttrs) {\n                    const proxy = {}\n\n                    attrs.forEach((attr) => {\n                        console.log('setting', attr)\n                        let valueCopy = model.get(attr);\n                        model.on('change:' + attr, (_widget, value) => {\n                            proxy[attr] = value\n                        })\n                        Object.defineProperty(proxy, attr, {\n                            enumerable: true,\n                            configurable: true,\n                            get: () => {\n                                return valueCopy;\n                            },\n                            set: (value) => {\n                                valueCopy = value;\n                                model.set(attr, value);\n                                model.save_changes();\n                            },\n                        });\n                    })\n                    if(widgetAttrs) {\n                        Object.keys(widgetAttrs).forEach((attr) => {\n                            console.log('setting list', attr)\n                            let listValue = model.get(attr);\n                            let listValueProxy = [];\n                            if(listValue) {\n                                listValueProxy = listValue.map((k) => bbproxy(k, widgetAttrs[attr]));\n                            }\n                            proxy[attr] = listValueProxy;\n                            model.on('change:' + attr, (_widget, value) => {\n                                console.log('changed list', attr, value)\n                                if(value) {\n                                    proxy[attr] = value.map((k) => bbproxy(k, widgetAttrs[attr]))\n                                } else {\n                                    proxy[attr] = null;\n                                }\n                            });\n                            Object.defineProperty(proxy, attr, {\n                                enumerable: true,\n                                configurable: true,\n                                get: () => {\n                                    return listValueProxy;\n                                },\n                                set: (value) => {\n                                    listValueProxy = value;\n                                    console.log('ignore propagating set')\n                                },\n                            });\n                        })\n                    }\n\n                    return proxy;\n                }\n                this.$set(this.models, 'figure', bbproxy(figure, [\"show\"]));\n            })();\n        },\n        methods: {\n        }\n    }\n\n</script>\n"
          }
        },
        "0da368c44ada4278965f36065e43d7a6": {
          "model_module": "jupyter-threejs",
          "model_module_version": "^2.4.1",
          "model_name": "ShaderMaterialModel",
          "state": {
            "_model_module": "jupyter-threejs",
            "_model_module_version": "^2.4.1",
            "_model_name": "ShaderMaterialModel",
            "_view_count": null,
            "_view_module": null,
            "_view_module_version": "",
            "_view_name": null,
            "alphaTest": 0,
            "blendDst": "OneMinusSrcAlphaFactor",
            "blendDstAlpha": 0,
            "blendEquation": "AddEquation",
            "blendEquationAlpha": 0,
            "blendSrc": "SrcAlphaFactor",
            "blendSrcAlpha": 0,
            "blending": "NormalBlending",
            "clipIntersection": false,
            "clipShadows": false,
            "clipping": false,
            "clippingPlanes": [],
            "colorWrite": true,
            "defines": null,
            "depthFunc": "LessEqualDepth",
            "depthTest": true,
            "depthWrite": true,
            "dithering": false,
            "extensions": {},
            "flatShading": false,
            "fog": false,
            "fragmentShader": "",
            "lights": false,
            "linewidth": 1,
            "morphNormals": false,
            "morphTargets": false,
            "name": "",
            "opacity": 1,
            "overdraw": 0,
            "polygonOffset": false,
            "polygonOffsetFactor": 0,
            "polygonOffsetUnits": 0,
            "precision": null,
            "premultipliedAlpha": false,
            "shadowSide": null,
            "side": "FrontSide",
            "skinning": false,
            "transparent": false,
            "type": "ShaderMaterial",
            "uniforms": {},
            "uniformsNeedUpdate": false,
            "vertexColors": "NoColors",
            "vertexShader": "",
            "visible": true,
            "wireframe": false,
            "wireframeLinewidth": 1
          }
        },
        "0e59449ec19b475389fa8bb097b9044f": {
          "model_module": "@jupyter-widgets/base",
          "model_module_version": "1.2.0",
          "model_name": "LayoutModel",
          "state": {
            "_model_module": "@jupyter-widgets/base",
            "_model_module_version": "1.2.0",
            "_model_name": "LayoutModel",
            "_view_count": null,
            "_view_module": "@jupyter-widgets/base",
            "_view_module_version": "1.2.0",
            "_view_name": "LayoutView",
            "align_content": null,
            "align_items": null,
            "align_self": null,
            "border": null,
            "bottom": null,
            "display": null,
            "flex": null,
            "flex_flow": null,
            "grid_area": null,
            "grid_auto_columns": null,
            "grid_auto_flow": null,
            "grid_auto_rows": null,
            "grid_column": null,
            "grid_gap": null,
            "grid_row": null,
            "grid_template_areas": null,
            "grid_template_columns": null,
            "grid_template_rows": null,
            "height": null,
            "justify_content": null,
            "justify_items": null,
            "left": null,
            "margin": null,
            "max_height": null,
            "max_width": null,
            "min_height": null,
            "min_width": null,
            "object_fit": null,
            "object_position": null,
            "order": null,
            "overflow": null,
            "overflow_x": null,
            "overflow_y": null,
            "padding": null,
            "right": null,
            "top": null,
            "visibility": null,
            "width": null
          }
        },
        "193e2716acc04fbca2fb04e6c68abdd3": {
          "model_module": "ipyvolume",
          "model_module_version": "~0.6.3",
          "model_name": "FigureModel",
          "state": {
            "_dom_classes": [],
            "_model_module": "ipyvolume",
            "_model_module_version": "~0.6.3",
            "_model_name": "FigureModel",
            "_shaders": {},
            "_view_count": null,
            "_view_module": "ipyvolume",
            "_view_module_version": "~0.6.3",
            "_view_name": "FigureView",
            "ambient_coefficient": 0.5,
            "animation": 1000,
            "animation_exponent": 1,
            "box_center": [
              0.5,
              0.5,
              0.5
            ],
            "box_size": [
              1,
              1,
              1
            ],
            "camera": "IPY_MODEL_f7c9591056f54f81b5f806c7b75e46b3",
            "camera_center": [
              0,
              0,
              0
            ],
            "camera_control": "trackball",
            "camera_fov": 45,
            "capture_fps": null,
            "controls": null,
            "cube_resolution": 512,
            "diffuse_coefficient": 0.8,
            "displayscale": 1,
            "eye_separation": 6.4,
            "height": 400,
            "layout": "IPY_MODEL_73ea65be50d04172a07be5c2aacc3ffc",
            "lights": [],
            "matrix_projection": [
              2.4142135623730954,
              0,
              0,
              0,
              0,
              2.4142135623730954,
              0,
              0,
              0,
              0,
              -1.00010000500025,
              -1,
              0,
              0,
              -0.200010000500025,
              0
            ],
            "matrix_world": [
              -0.8273531118070748,
              0.07238734590450265,
              -0.556998115379264,
              0,
              0.5499033017989553,
              0.3064103194996139,
              -0.7769936130849153,
              0,
              0.114425465058076,
              -0.9491431863828799,
              -0.29331557184915497,
              0,
              0.08151217247502186,
              0.2851727604893809,
              -1.3218261307367793,
              0.9999999999999999
            ],
            "meshes": [],
            "mouse_mode": "normal",
            "orientation_control": false,
            "panorama_mode": "no",
            "pixel_ratio": null,
            "popup_debouce": 100,
            "render_continuous": false,
            "scales": {
              "x": "IPY_MODEL_46a56546626143129b3d7f02f64c02cc",
              "y": "IPY_MODEL_415778cbf0db415ba1ad1852a530914c",
              "z": "IPY_MODEL_a256faf67a044494a087bda2796fe839"
            },
            "scatters": [
              "IPY_MODEL_80afef29d68c4720a79cf8dc1b0d2c7c"
            ],
            "scene": "IPY_MODEL_4a2dff878a594a179d402df9f6449a07",
            "selection_mode": "replace",
            "selector": "lasso",
            "show": "render",
            "slice_x": 0,
            "slice_y": 0,
            "slice_z": 0,
            "specular_coefficient": 0.5,
            "specular_exponent": 5,
            "stereo": false,
            "style": {
              "axes": {
                "color": "black",
                "label": {
                  "color": "black"
                },
                "ticklabel": {
                  "color": "black"
                },
                "visible": true
              },
              "background-color": "white",
              "box": {
                "visible": true
              }
            },
            "volumes": [],
            "width": 400,
            "xlabel": "x",
            "ylabel": "y",
            "zlabel": "z"
          }
        },
        "1e0f832718884795a66b5298f76d5849": {
          "model_module": "ipyvolume",
          "model_module_version": "~0.6.3",
          "model_name": "ScatterModel",
          "state": {
            "_model_module": "ipyvolume",
            "_model_module_version": "~0.6.3",
            "_model_name": "ScatterModel",
            "_view_count": null,
            "_view_module": "ipyvolume",
            "_view_module_version": "~0.6.3",
            "_view_name": "ScatterView",
            "aux": null,
            "aux_scale": null,
            "cast_shadow": true,
            "clicked": false,
            "clicked_index": null,
            "color": [
              {
                "dtype": "float32",
                "shape": [
                  178,
                  4
                ]
              }
            ],
            "color_scale": null,
            "color_selected": "white",
            "connected": false,
            "description": "Scatter 0",
            "description_color": "red",
            "geo": "sphere",
            "geo_matrix": [
              1,
              0,
              0,
              0,
              0,
              1,
              0,
              0,
              0,
              0,
              1,
              0,
              0,
              0,
              0,
              1
            ],
            "hovered": false,
            "hovered_index": null,
            "icon": "mdi-chart-bubble",
            "line_material": "IPY_MODEL_c16922b46d8d418ab9beda8e5aa483bf",
            "material": "IPY_MODEL_21c7343e5a90449199dd29d07a16cca6",
            "popup": null,
            "receive_shadow": true,
            "selected": null,
            "sequence_index": 0,
            "shader_snippets": {
              "size": "\n"
            },
            "size": 4,
            "size_selected": 2.6,
            "size_x_scale": null,
            "size_y_scale": null,
            "size_z_scale": null,
            "texture": null,
            "visible": true,
            "vx": null,
            "vy": null,
            "vz": null,
            "x": [
              {
                "dtype": "float32",
                "shape": [
                  178
                ]
              }
            ],
            "y": [
              {
                "dtype": "float32",
                "shape": [
                  178
                ]
              }
            ],
            "z": [
              {
                "dtype": "float32",
                "shape": [
                  178
                ]
              }
            ]
          }
        },
        "1fd39f469c00449ca7ba556794e17010": {
          "model_module": "bqplot",
          "model_module_version": "^0.5",
          "model_name": "LinearScaleModel",
          "state": {
            "_model_module": "bqplot",
            "_model_module_version": "^0.5",
            "_model_name": "LinearScaleModel",
            "_view_count": null,
            "_view_module": "bqplot",
            "_view_module_version": "^0.5",
            "_view_name": "LinearScale",
            "allow_padding": true,
            "max": 1,
            "mid_range": 0.8,
            "min": 0,
            "min_range": 0.6,
            "reverse": false,
            "stabilized": false
          }
        },
        "2135177bb77a4554be718650f57b3f53": {
          "model_module": "jupyter-vue",
          "model_module_version": "^1.11.0",
          "model_name": "TemplateModel",
          "state": {
            "_model_module": "jupyter-vue",
            "_model_module_version": "^1.11.0",
            "_model_name": "TemplateModel",
            "_view_count": null,
            "_view_module": null,
            "_view_module_version": "",
            "_view_name": null,
            "template": "<template>\n    <div class=\"ipyvolume-container-root\">\n        <jupyter-widget ref=\"figure\" :widget=\"figure\"></jupyter-widget>\n        <div class=ipyvolume-container-controls>\n            <v-expansion-panels accordion multiple v-model=\"panels\" flat>\n                <v-expansion-panel>\n                    <v-expansion-panel-header>Legend</v-expansion-panel-header>\n                    <v-expansion-panel-content>\n                        <jupyter-widget ref=\"legend\" :widget=\"legend\"></jupyter-widget>\n                    </v-expansion-panel-content>\n                </v-expansion-panel>\n                <v-expansion-panel>\n                    <v-expansion-panel-header>Misc</v-expansion-panel-header>\n                    <v-expansion-panel-content>\n                        <jupyter-widget v-for=\"child in children\" :key=\"child\" :widget=\"child\"></jupyter-widget>\n                    </v-expansion-panel-content>\n                </v-expansion-panel>\n                <v-expansion-panel>\n                    <v-expansion-panel-header>Debug</v-expansion-panel-header>\n                    <v-expansion-panel-content>\n                        <p>Show render pass:</p>\n                        <v-btn-toggle v-model=\"models.figure.show\" tile group>\n                            <v-btn value=\"render\">Render</v-btn>\n                            <v-btn value=\"front\">Front</v-btn>\n                            <v-btn value=\"back\">Back</v-btn>\n                            <v-btn value=\"id\">ID</v-btn>\n                            <v-btn value=\"coordinate\">Coordinate</v-btn>\n                        </v-btn-toggle>\n                    </v-expansion-panel-content>\n                </v-expansion-panel>\n            </v-expansion-panels>\n        </div>\n    </div>\n</template>\n<style id=\"ipyvolume-container\">\n    .ipyvolume-container-root {\n        display: flex;\n    }\n    .ipyvolume-container-controls {\n        display: flex;\n        flex-direction: column;\n    }\n</style>\n\n<script>\n    module.export = {\n        created() {\n            console.log('created', this.$refs)\n        },\n        mounted() {\n            const figureComponent = this.$refs.figure;\n            (async () => {\n                const figure = await this.viewCtx.getModelById(this.figure.substr(10));\n                function bbproxy(model, attrs, widgetAttrs) {\n                    const proxy = {}\n\n                    attrs.forEach((attr) => {\n                        console.log('setting', attr)\n                        let valueCopy = model.get(attr);\n                        model.on('change:' + attr, (_widget, value) => {\n                            proxy[attr] = value\n                        })\n                        Object.defineProperty(proxy, attr, {\n                            enumerable: true,\n                            configurable: true,\n                            get: () => {\n                                return valueCopy;\n                            },\n                            set: (value) => {\n                                valueCopy = value;\n                                model.set(attr, value);\n                                model.save_changes();\n                            },\n                        });\n                    })\n                    if(widgetAttrs) {\n                        Object.keys(widgetAttrs).forEach((attr) => {\n                            console.log('setting list', attr)\n                            let listValue = model.get(attr);\n                            let listValueProxy = [];\n                            if(listValue) {\n                                listValueProxy = listValue.map((k) => bbproxy(k, widgetAttrs[attr]));\n                            }\n                            proxy[attr] = listValueProxy;\n                            model.on('change:' + attr, (_widget, value) => {\n                                console.log('changed list', attr, value)\n                                if(value) {\n                                    proxy[attr] = value.map((k) => bbproxy(k, widgetAttrs[attr]))\n                                } else {\n                                    proxy[attr] = null;\n                                }\n                            });\n                            Object.defineProperty(proxy, attr, {\n                                enumerable: true,\n                                configurable: true,\n                                get: () => {\n                                    return listValueProxy;\n                                },\n                                set: (value) => {\n                                    listValueProxy = value;\n                                    console.log('ignore propagating set')\n                                },\n                            });\n                        })\n                    }\n\n                    return proxy;\n                }\n                this.$set(this.models, 'figure', bbproxy(figure, [\"show\"]));\n            })();\n        },\n        methods: {\n        }\n    }\n\n</script>\n"
          }
        },
        "21c7343e5a90449199dd29d07a16cca6": {
          "model_module": "jupyter-threejs",
          "model_module_version": "^2.4.1",
          "model_name": "ShaderMaterialModel",
          "state": {
            "_model_module": "jupyter-threejs",
            "_model_module_version": "^2.4.1",
            "_model_name": "ShaderMaterialModel",
            "_view_count": null,
            "_view_module": null,
            "_view_module_version": "",
            "_view_name": null,
            "alphaTest": 0,
            "blendDst": "OneMinusSrcAlphaFactor",
            "blendDstAlpha": 0,
            "blendEquation": "AddEquation",
            "blendEquationAlpha": 0,
            "blendSrc": "SrcAlphaFactor",
            "blendSrcAlpha": 0,
            "blending": "NormalBlending",
            "clipIntersection": false,
            "clipShadows": false,
            "clipping": false,
            "clippingPlanes": [],
            "colorWrite": true,
            "defines": null,
            "depthFunc": "LessEqualDepth",
            "depthTest": true,
            "depthWrite": true,
            "dithering": false,
            "extensions": {},
            "flatShading": false,
            "fog": false,
            "fragmentShader": "",
            "lights": false,
            "linewidth": 1,
            "morphNormals": false,
            "morphTargets": false,
            "name": "",
            "opacity": 1,
            "overdraw": 0,
            "polygonOffset": false,
            "polygonOffsetFactor": 0,
            "polygonOffsetUnits": 0,
            "precision": null,
            "premultipliedAlpha": false,
            "shadowSide": null,
            "side": "FrontSide",
            "skinning": false,
            "transparent": false,
            "type": "ShaderMaterial",
            "uniforms": {},
            "uniformsNeedUpdate": false,
            "vertexColors": "NoColors",
            "vertexShader": "",
            "visible": true,
            "wireframe": false,
            "wireframeLinewidth": 1
          }
        },
        "2d4c439a368f49c795dff725ef660e42": {
          "model_module": "jupyter-threejs",
          "model_module_version": "^2.4.1",
          "model_name": "SceneModel",
          "state": {
            "_model_module": "jupyter-threejs",
            "_model_module_version": "^2.4.1",
            "_model_name": "SceneModel",
            "_view_count": null,
            "_view_module": null,
            "_view_module_version": "",
            "_view_name": null,
            "autoUpdate": true,
            "background": null,
            "castShadow": false,
            "children": [],
            "fog": null,
            "frustumCulled": true,
            "matrix": [
              1,
              0,
              0,
              0,
              0,
              1,
              0,
              0,
              0,
              0,
              1,
              0,
              0,
              0,
              0,
              1
            ],
            "matrixAutoUpdate": true,
            "matrixWorld": [
              1,
              0,
              0,
              0,
              0,
              1,
              0,
              0,
              0,
              0,
              1,
              0,
              0,
              0,
              0,
              1
            ],
            "matrixWorldNeedsUpdate": false,
            "modelViewMatrix": [
              1,
              0,
              0,
              0,
              0,
              1,
              0,
              0,
              0,
              0,
              1,
              0,
              0,
              0,
              0,
              1
            ],
            "name": "",
            "normalMatrix": [
              1,
              0,
              0,
              0,
              1,
              0,
              0,
              0,
              1
            ],
            "overrideMaterial": null,
            "position": [
              0,
              0,
              0
            ],
            "quaternion": [
              0,
              0,
              0,
              1
            ],
            "receiveShadow": false,
            "renderOrder": 0,
            "rotation": [
              0,
              0,
              0,
              "XYZ"
            ],
            "scale": [
              1,
              1,
              1
            ],
            "type": "Scene",
            "up": [
              0,
              1,
              0
            ],
            "visible": true
          }
        },
        "37819a40f7b144b6b072ab9949fb6cde": {
          "model_module": "jupyter-vue",
          "model_module_version": "^1.10.1",
          "model_name": "HtmlModel",
          "state": {
            "_dom_classes": [],
            "_events": [],
            "_jupyter_vue": "IPY_MODEL_8339f2a9171c4bbd9b46173bd17d7340",
            "_model_module": "jupyter-vue",
            "_model_module_version": "^1.10.1",
            "_model_name": "HtmlModel",
            "_view_count": null,
            "_view_module": "jupyter-vue",
            "_view_module_version": "^1.10.1",
            "_view_name": "VueView",
            "attributes": {},
            "children": [],
            "class_": null,
            "layout": null,
            "slot": null,
            "style_": "display: none",
            "tag": "span",
            "v_model": "!!disabled!!",
            "v_on": null,
            "v_slots": []
          }
        },
        "3784fab3eeaa47cf96d81e9fed2a8fcd": {
          "model_module": "bqplot",
          "model_module_version": "^0.5",
          "model_name": "LinearScaleModel",
          "state": {
            "_model_module": "bqplot",
            "_model_module_version": "^0.5",
            "_model_name": "LinearScaleModel",
            "_view_count": null,
            "_view_module": "bqplot",
            "_view_module_version": "^0.5",
            "_view_name": "LinearScale",
            "allow_padding": true,
            "max": 1,
            "mid_range": 0.8,
            "min": 0,
            "min_range": 0.6,
            "reverse": false,
            "stabilized": false
          }
        },
        "3804daa4b5eb43d18fa907fc55883663": {
          "model_module": "jupyter-vuetify",
          "model_module_version": "^1.8.10",
          "model_name": "VuetifyTemplateModel",
          "state": {
            "_component_instances": [],
            "_dom_classes": [],
            "_jupyter_vue": "IPY_MODEL_620be5255565458fbc0a92d90e664195",
            "_model_module": "jupyter-vuetify",
            "_model_module_version": "^1.8.10",
            "_model_name": "VuetifyTemplateModel",
            "_view_count": null,
            "_view_module": "jupyter-vuetify",
            "_view_module_version": "^1.8.10",
            "_view_name": "VuetifyView",
            "components": null,
            "css": null,
            "data": null,
            "events": [],
            "figure": "IPY_MODEL_65a61477838b4764b3dbc81e0fadc592",
            "layout": "IPY_MODEL_3b61a7d8d99243a89b4e355cc7cbec34",
            "methods": null,
            "models": {
              "figure": {
                "meshes": [],
                "scatters": [
                  {
                    "description": "Scatter 0",
                    "description_color": "red",
                    "hovered": false,
                    "icon": "mdi-chart-bubble",
                    "visible": true
                  }
                ],
                "stereo": false,
                "volumes": []
              }
            },
            "template": "IPY_MODEL_6f03db6839334eb2af87dd50d23c66fc"
          }
        },
        "3b61a7d8d99243a89b4e355cc7cbec34": {
          "model_module": "@jupyter-widgets/base",
          "model_module_version": "1.2.0",
          "model_name": "LayoutModel",
          "state": {
            "_model_module": "@jupyter-widgets/base",
            "_model_module_version": "1.2.0",
            "_model_name": "LayoutModel",
            "_view_count": null,
            "_view_module": "@jupyter-widgets/base",
            "_view_module_version": "1.2.0",
            "_view_name": "LayoutView",
            "align_content": null,
            "align_items": null,
            "align_self": null,
            "border": null,
            "bottom": null,
            "display": null,
            "flex": null,
            "flex_flow": null,
            "grid_area": null,
            "grid_auto_columns": null,
            "grid_auto_flow": null,
            "grid_auto_rows": null,
            "grid_column": null,
            "grid_gap": null,
            "grid_row": null,
            "grid_template_areas": null,
            "grid_template_columns": null,
            "grid_template_rows": null,
            "height": null,
            "justify_content": null,
            "justify_items": null,
            "left": null,
            "margin": null,
            "max_height": null,
            "max_width": null,
            "min_height": null,
            "min_width": null,
            "object_fit": null,
            "object_position": null,
            "order": null,
            "overflow": null,
            "overflow_x": null,
            "overflow_y": null,
            "padding": null,
            "right": null,
            "top": null,
            "visibility": null,
            "width": null
          }
        },
        "415778cbf0db415ba1ad1852a530914c": {
          "model_module": "bqplot",
          "model_module_version": "^0.5",
          "model_name": "LinearScaleModel",
          "state": {
            "_model_module": "bqplot",
            "_model_module_version": "^0.5",
            "_model_name": "LinearScaleModel",
            "_view_count": null,
            "_view_module": "bqplot",
            "_view_module_version": "^0.5",
            "_view_name": "LinearScale",
            "allow_padding": true,
            "max": 1,
            "mid_range": 0.8,
            "min": 0,
            "min_range": 0.6,
            "reverse": false,
            "stabilized": false
          }
        },
        "46a56546626143129b3d7f02f64c02cc": {
          "model_module": "bqplot",
          "model_module_version": "^0.5",
          "model_name": "LinearScaleModel",
          "state": {
            "_model_module": "bqplot",
            "_model_module_version": "^0.5",
            "_model_name": "LinearScaleModel",
            "_view_count": null,
            "_view_module": "bqplot",
            "_view_module_version": "^0.5",
            "_view_name": "LinearScale",
            "allow_padding": true,
            "max": 1,
            "mid_range": 0.8,
            "min": 0,
            "min_range": 0.6,
            "reverse": false,
            "stabilized": false
          }
        },
        "48bc94faf047424d904440c2b4add96d": {
          "model_module": "@jupyter-widgets/base",
          "model_module_version": "1.2.0",
          "model_name": "LayoutModel",
          "state": {
            "_model_module": "@jupyter-widgets/base",
            "_model_module_version": "1.2.0",
            "_model_name": "LayoutModel",
            "_view_count": null,
            "_view_module": "@jupyter-widgets/base",
            "_view_module_version": "1.2.0",
            "_view_name": "LayoutView",
            "align_content": null,
            "align_items": null,
            "align_self": null,
            "border": null,
            "bottom": null,
            "display": null,
            "flex": null,
            "flex_flow": null,
            "grid_area": null,
            "grid_auto_columns": null,
            "grid_auto_flow": null,
            "grid_auto_rows": null,
            "grid_column": null,
            "grid_gap": null,
            "grid_row": null,
            "grid_template_areas": null,
            "grid_template_columns": null,
            "grid_template_rows": null,
            "height": null,
            "justify_content": null,
            "justify_items": null,
            "left": null,
            "margin": null,
            "max_height": null,
            "max_width": null,
            "min_height": null,
            "min_width": null,
            "object_fit": null,
            "object_position": null,
            "order": null,
            "overflow": null,
            "overflow_x": null,
            "overflow_y": null,
            "padding": null,
            "right": null,
            "top": null,
            "visibility": null,
            "width": null
          }
        },
        "48de45819ff540e1a9ecb87aa4df3869": {
          "model_module": "jupyter-vuetify",
          "model_module_version": "^1.9.4",
          "model_name": "VuetifyTemplateModel",
          "state": {
            "_component_instances": [],
            "_dom_classes": [],
            "_jupyter_vue": "IPY_MODEL_30a683d2596d472eb0c19a57ee489429",
            "_model_module": "jupyter-vuetify",
            "_model_module_version": "^1.9.4",
            "_model_name": "VuetifyTemplateModel",
            "_view_count": null,
            "_view_module": "jupyter-vuetify",
            "_view_module_version": "^1.9.4",
            "_view_name": "VuetifyView",
            "children": [],
            "components": null,
            "css": null,
            "data": null,
            "events": [],
            "figure": "IPY_MODEL_193e2716acc04fbca2fb04e6c68abdd3",
            "layout": "IPY_MODEL_0e59449ec19b475389fa8bb097b9044f",
            "legend": "IPY_MODEL_8ebc3f3432a54252bf17325f07557e69",
            "legend_show": true,
            "methods": null,
            "models": {
              "figure": {
                "show": "render"
              }
            },
            "panels": [
              0,
              1,
              2
            ],
            "template": "IPY_MODEL_2135177bb77a4554be718650f57b3f53"
          }
        },
        "4a2dff878a594a179d402df9f6449a07": {
          "model_module": "jupyter-threejs",
          "model_module_version": "^2.4.1",
          "model_name": "SceneModel",
          "state": {
            "_model_module": "jupyter-threejs",
            "_model_module_version": "^2.4.1",
            "_model_name": "SceneModel",
            "_view_count": null,
            "_view_module": null,
            "_view_module_version": "",
            "_view_name": null,
            "autoUpdate": true,
            "background": null,
            "castShadow": false,
            "children": [],
            "fog": null,
            "frustumCulled": true,
            "matrix": [
              1,
              0,
              0,
              0,
              0,
              1,
              0,
              0,
              0,
              0,
              1,
              0,
              0,
              0,
              0,
              1
            ],
            "matrixAutoUpdate": true,
            "matrixWorld": [
              1,
              0,
              0,
              0,
              0,
              1,
              0,
              0,
              0,
              0,
              1,
              0,
              0,
              0,
              0,
              1
            ],
            "matrixWorldNeedsUpdate": false,
            "modelViewMatrix": [
              1,
              0,
              0,
              0,
              0,
              1,
              0,
              0,
              0,
              0,
              1,
              0,
              0,
              0,
              0,
              1
            ],
            "name": "",
            "normalMatrix": [
              1,
              0,
              0,
              0,
              1,
              0,
              0,
              0,
              1
            ],
            "overrideMaterial": null,
            "position": [
              0,
              0,
              0
            ],
            "quaternion": [
              0,
              0,
              0,
              1
            ],
            "receiveShadow": false,
            "renderOrder": 0,
            "rotation": [
              0,
              0,
              0,
              "XYZ"
            ],
            "scale": [
              1,
              1,
              1
            ],
            "type": "Scene",
            "up": [
              0,
              1,
              0
            ],
            "visible": true
          }
        },
        "4c2654f702ea446ca9d5c9faee75323d": {
          "model_module": "jupyter-vue",
          "model_module_version": "^1.10.1",
          "model_name": "HtmlModel",
          "state": {
            "_dom_classes": [],
            "_events": [],
            "_jupyter_vue": "IPY_MODEL_2797283294ff4825a1fb50aa1c6ac9f6",
            "_model_module": "jupyter-vue",
            "_model_module_version": "^1.10.1",
            "_model_name": "HtmlModel",
            "_view_count": null,
            "_view_module": "jupyter-vue",
            "_view_module_version": "^1.10.1",
            "_view_name": "VueView",
            "attributes": {},
            "children": [],
            "class_": null,
            "layout": null,
            "slot": null,
            "style_": "display: none",
            "tag": "span",
            "v_model": "!!disabled!!",
            "v_on": null,
            "v_slots": []
          }
        },
        "4e1e62e7203d41dc988ebdb705b8865e": {
          "model_module": "jupyter-threejs",
          "model_module_version": "^2.4.1",
          "model_name": "SceneModel",
          "state": {
            "_model_module": "jupyter-threejs",
            "_model_module_version": "^2.4.1",
            "_model_name": "SceneModel",
            "_view_count": null,
            "_view_module": null,
            "_view_module_version": "",
            "_view_name": null,
            "autoUpdate": true,
            "background": null,
            "castShadow": false,
            "children": [],
            "fog": null,
            "frustumCulled": true,
            "matrix": [
              1,
              0,
              0,
              0,
              0,
              1,
              0,
              0,
              0,
              0,
              1,
              0,
              0,
              0,
              0,
              1
            ],
            "matrixAutoUpdate": true,
            "matrixWorld": [
              1,
              0,
              0,
              0,
              0,
              1,
              0,
              0,
              0,
              0,
              1,
              0,
              0,
              0,
              0,
              1
            ],
            "matrixWorldNeedsUpdate": false,
            "modelViewMatrix": [
              1,
              0,
              0,
              0,
              0,
              1,
              0,
              0,
              0,
              0,
              1,
              0,
              0,
              0,
              0,
              1
            ],
            "name": "",
            "normalMatrix": [
              1,
              0,
              0,
              0,
              1,
              0,
              0,
              0,
              1
            ],
            "overrideMaterial": null,
            "position": [
              0,
              0,
              0
            ],
            "quaternion": [
              0,
              0,
              0,
              1
            ],
            "receiveShadow": false,
            "renderOrder": 0,
            "rotation": [
              0,
              0,
              0,
              "XYZ"
            ],
            "scale": [
              1,
              1,
              1
            ],
            "type": "Scene",
            "up": [
              0,
              1,
              0
            ],
            "visible": true
          }
        },
        "54090b4ff19049e4b682599cdf4878e8": {
          "model_module": "jupyter-vue",
          "model_module_version": "^1.10.1",
          "model_name": "TemplateModel",
          "state": {
            "_model_module": "jupyter-vue",
            "_model_module_version": "^1.10.1",
            "_model_name": "TemplateModel",
            "_view_count": null,
            "_view_module": null,
            "_view_module_version": "",
            "_view_name": null,
            "template": "<template>\n    <div class=\"ipyvolume-container-root\">\n        <jupyter-widget ref=\"figure\" :widget=\"figure\"></jupyter-widget>\n        <div class=ipyvolume-container-controls>\n            <v-expansion-panels accordion multiple v-model=\"panels\" flat>\n                <v-expansion-panel>\n                    <v-expansion-panel-header>Legend</v-expansion-panel-header>\n                    <v-expansion-panel-content>\n                        <jupyter-widget ref=\"legend\" :widget=\"legend\"></jupyter-widget>\n                    </v-expansion-panel-content>\n                </v-expansion-panel>\n                <v-expansion-panel>\n                    <v-expansion-panel-header>Misc</v-expansion-panel-header>\n                    <v-expansion-panel-content>\n                        <jupyter-widget v-for=\"child in children\" :key=\"child\" :widget=\"child\"></jupyter-widget>\n                    </v-expansion-panel-content>\n                </v-expansion-panel>\n                <v-expansion-panel>\n                    <v-expansion-panel-header>Debug</v-expansion-panel-header>\n                    <v-expansion-panel-content>\n                        <p>Show render pass:</p>\n                        <v-btn-toggle v-model=\"models.figure.show\" tile group>\n                            <v-btn value=\"render\">Render</v-btn>\n                            <v-btn value=\"front\">Front</v-btn>\n                            <v-btn value=\"back\">Back</v-btn>\n                            <v-btn value=\"id\">ID</v-btn>\n                            <v-btn value=\"coordinate\">Coordinate</v-btn>\n                        </v-btn-toggle>\n                    </v-expansion-panel-content>\n                </v-expansion-panel>\n            </v-expansion-panels>\n        </div>\n    </div>\n</template>\n<style id=\"ipyvolume-container\">\n    .ipyvolume-container-root {\n        display: flex;\n    }\n    .ipyvolume-container-controls {\n        display: flex;\n        flex-direction: column;\n    }\n</style>\n\n<script>\n    module.export = {\n        created() {\n            console.log('created', this.$refs)\n        },\n        mounted() {\n            const figureComponent = this.$refs.figure;\n            (async () => {\n                const figure = await this.viewCtx.getModelById(this.figure.substr(10));\n                function bbproxy(model, attrs, widgetAttrs) {\n                    const proxy = {}\n\n                    attrs.forEach((attr) => {\n                        console.log('setting', attr)\n                        let valueCopy = model.get(attr);\n                        model.on('change:' + attr, (_widget, value) => {\n                            proxy[attr] = value\n                        })\n                        Object.defineProperty(proxy, attr, {\n                            enumerable: true,\n                            configurable: true,\n                            get: () => {\n                                return valueCopy;\n                            },\n                            set: (value) => {\n                                valueCopy = value;\n                                model.set(attr, value);\n                                model.save_changes();\n                            },\n                        });\n                    })\n                    if(widgetAttrs) {\n                        Object.keys(widgetAttrs).forEach((attr) => {\n                            console.log('setting list', attr)\n                            let listValue = model.get(attr);\n                            let listValueProxy = [];\n                            if(listValue) {\n                                listValueProxy = listValue.map((k) => bbproxy(k, widgetAttrs[attr]));\n                            }\n                            proxy[attr] = listValueProxy;\n                            model.on('change:' + attr, (_widget, value) => {\n                                console.log('changed list', attr, value)\n                                if(value) {\n                                    proxy[attr] = value.map((k) => bbproxy(k, widgetAttrs[attr]))\n                                } else {\n                                    proxy[attr] = null;\n                                }\n                            });\n                            Object.defineProperty(proxy, attr, {\n                                enumerable: true,\n                                configurable: true,\n                                get: () => {\n                                    return listValueProxy;\n                                },\n                                set: (value) => {\n                                    listValueProxy = value;\n                                    console.log('ignore propagating set')\n                                },\n                            });\n                        })\n                    }\n\n                    return proxy;\n                }\n                this.$set(this.models, 'figure', bbproxy(figure, [\"show\"]));\n            })();\n        },\n        methods: {\n        }\n    }\n\n</script>\n"
          }
        },
        "54ded0a1f63640a7ba57bbe8133fb416": {
          "model_module": "jupyter-threejs",
          "model_module_version": "^2.4.1",
          "model_name": "PerspectiveCameraModel",
          "state": {
            "_model_module": "jupyter-threejs",
            "_model_module_version": "^2.4.1",
            "_model_name": "PerspectiveCameraModel",
            "_view_count": null,
            "_view_module": null,
            "_view_module_version": "",
            "_view_name": null,
            "aspect": 1,
            "castShadow": false,
            "children": [],
            "far": 2000,
            "focus": 10,
            "fov": 45,
            "frustumCulled": true,
            "matrix": [
              0.23327157323413172,
              -0.1024324757568443,
              0.9670015310387035,
              0,
              0.08535611409600599,
              0.9927548902909363,
              0.0845698621842352,
              0,
              -0.9686581992154419,
              0.0628117482144418,
              0.2403247331818822,
              0,
              -1.9373163984308568,
              0.12562349642888185,
              0.4806494663637579,
              1
            ],
            "matrixAutoUpdate": true,
            "matrixWorld": [
              0.23327157323413172,
              -0.1024324757568443,
              0.9670015310387035,
              0,
              0.08535611409600599,
              0.9927548902909363,
              0.0845698621842352,
              0,
              -0.9686581992154419,
              0.0628117482144418,
              0.2403247331818822,
              0,
              -1.9373163984308568,
              0.12562349642888185,
              0.4806494663637579,
              1
            ],
            "matrixWorldInverse": [
              0.23327157323413183,
              0.085356114096006,
              -0.968658199215442,
              0,
              -0.10243247575684433,
              0.9927548902909367,
              0.06281174821444181,
              0,
              0.9670015310387037,
              0.08456986218423523,
              0.2403247331818822,
              0,
              -1.7087026238371555e-16,
              -2.6020852139652113e-17,
              -1.9999999999999725,
              1.0000000000000002
            ],
            "matrixWorldNeedsUpdate": true,
            "modelViewMatrix": [
              1,
              0,
              0,
              0,
              0,
              1,
              0,
              0,
              0,
              0,
              1,
              0,
              0,
              0,
              0,
              1
            ],
            "name": "",
            "near": 0.1,
            "normalMatrix": [
              1,
              0,
              0,
              0,
              1,
              0,
              0,
              0,
              1
            ],
            "position": [
              -1.9373163984308568,
              0.12562349642888185,
              0.4806494663637579
            ],
            "projectionMatrix": [
              2.4142135623730954,
              0,
              0,
              0,
              0,
              2.4142135623730954,
              0,
              0,
              0,
              0,
              -1.00010000500025,
              -1,
              0,
              0,
              -0.200010000500025,
              0
            ],
            "quaternion": [
              0.006927296754745645,
              -0.6162707570287029,
              -0.05978768614190981,
              0.7852310482760712
            ],
            "receiveShadow": false,
            "renderOrder": 0,
            "rotation": [
              -0.25564337524341274,
              -1.3197708255831038,
              -0.3507765517412125,
              "XYZ"
            ],
            "scale": [
              1,
              1,
              1
            ],
            "type": "PerspectiveCamera",
            "up": [
              0.08535611409600599,
              0.9927548902909363,
              0.08456986218423519
            ],
            "visible": true,
            "zoom": 1
          }
        },
        "595b0eeb82bc4c9db9898c8fa1c61b83": {
          "model_module": "jupyter-threejs",
          "model_module_version": "^2.4.1",
          "model_name": "ShaderMaterialModel",
          "state": {
            "_model_module": "jupyter-threejs",
            "_model_module_version": "^2.4.1",
            "_model_name": "ShaderMaterialModel",
            "_view_count": null,
            "_view_module": null,
            "_view_module_version": "",
            "_view_name": null,
            "alphaTest": 0,
            "blendDst": "OneMinusSrcAlphaFactor",
            "blendDstAlpha": 0,
            "blendEquation": "AddEquation",
            "blendEquationAlpha": 0,
            "blendSrc": "SrcAlphaFactor",
            "blendSrcAlpha": 0,
            "blending": "NormalBlending",
            "clipIntersection": false,
            "clipShadows": false,
            "clipping": false,
            "clippingPlanes": [],
            "colorWrite": true,
            "defines": null,
            "depthFunc": "LessEqualDepth",
            "depthTest": true,
            "depthWrite": true,
            "dithering": false,
            "extensions": {},
            "flatShading": false,
            "fog": false,
            "fragmentShader": "",
            "lights": false,
            "linewidth": 1,
            "morphNormals": false,
            "morphTargets": false,
            "name": "",
            "opacity": 1,
            "overdraw": 0,
            "polygonOffset": false,
            "polygonOffsetFactor": 0,
            "polygonOffsetUnits": 0,
            "precision": null,
            "premultipliedAlpha": false,
            "shadowSide": null,
            "side": "FrontSide",
            "skinning": false,
            "transparent": false,
            "type": "ShaderMaterial",
            "uniforms": {},
            "uniformsNeedUpdate": false,
            "vertexColors": "NoColors",
            "vertexShader": "",
            "visible": true,
            "wireframe": false,
            "wireframeLinewidth": 1
          }
        },
        "65a61477838b4764b3dbc81e0fadc592": {
          "model_module": "ipyvolume",
          "model_module_version": "~0.6.3",
          "model_name": "FigureModel",
          "state": {
            "_dom_classes": [],
            "_model_module": "ipyvolume",
            "_model_module_version": "~0.6.3",
            "_model_name": "FigureModel",
            "_shaders": {},
            "_view_count": null,
            "_view_module": "ipyvolume",
            "_view_module_version": "~0.6.3",
            "_view_name": "FigureView",
            "ambient_coefficient": 0.5,
            "animation": 1000,
            "animation_exponent": 1,
            "box_center": [
              0.5,
              0.5,
              0.5
            ],
            "box_size": [
              1,
              1,
              1
            ],
            "camera": "IPY_MODEL_f1054625a94e4005af1c6da90e52efd3",
            "camera_center": [
              0,
              0,
              0
            ],
            "camera_control": "trackball",
            "camera_fov": 45,
            "capture_fps": null,
            "controls": null,
            "cube_resolution": 512,
            "diffuse_coefficient": 0.8,
            "displayscale": 1,
            "eye_separation": 6.4,
            "height": 400,
            "layout": "IPY_MODEL_d971515d40a84afea5a7aa2a69835a99",
            "lights": [],
            "matrix_projection": [
              2.4142135623730954,
              0,
              0,
              0,
              0,
              2.4142135623730954,
              0,
              0,
              0,
              0,
              -1.00010000500025,
              -1,
              0,
              0,
              -0.200010000500025,
              0
            ],
            "matrix_world": [
              1,
              0,
              0,
              0,
              0,
              1,
              6.123233995736766e-17,
              0,
              0,
              -6.123233995736766e-17,
              1,
              0,
              -0.5,
              -0.49999999999999994,
              -2.5,
              1
            ],
            "meshes": [],
            "mouse_mode": "normal",
            "orientation_control": false,
            "panorama_mode": "no",
            "pixel_ratio": null,
            "popup_debouce": 100,
            "render_continuous": false,
            "scales": {
              "x": "IPY_MODEL_6a50c3b5d5c6481098d1c27067ca6429",
              "y": "IPY_MODEL_8480ceed1b984bdfb1b030d28113a224",
              "z": "IPY_MODEL_de72ad53fde640a1bc1a9ac44b0a2510"
            },
            "scatters": [
              "IPY_MODEL_0b3afe380a6b4df78ae088e1e6b45aa6"
            ],
            "scene": "IPY_MODEL_ee2312dfdc334d4ba407700ff084c812",
            "selection_mode": "replace",
            "selector": "lasso",
            "show": "render",
            "slice_x": 0,
            "slice_y": 0,
            "slice_z": 0,
            "specular_coefficient": 0.5,
            "specular_exponent": 5,
            "stereo": false,
            "style": {
              "axes": {
                "color": "black",
                "label": {
                  "color": "black"
                },
                "ticklabel": {
                  "color": "black"
                },
                "visible": true
              },
              "background-color": "white",
              "box": {
                "visible": true
              }
            },
            "volumes": [],
            "width": 400,
            "xlabel": "x",
            "ylabel": "y",
            "zlabel": "z"
          }
        },
        "66eabad37349445b885126183b2cc9e6": {
          "model_module": "bqplot",
          "model_module_version": "^0.5",
          "model_name": "LinearScaleModel",
          "state": {
            "_model_module": "bqplot",
            "_model_module_version": "^0.5",
            "_model_name": "LinearScaleModel",
            "_view_count": null,
            "_view_module": "bqplot",
            "_view_module_version": "^0.5",
            "_view_name": "LinearScale",
            "allow_padding": true,
            "max": 1,
            "mid_range": 0.8,
            "min": 0,
            "min_range": 0.6,
            "reverse": false,
            "stabilized": false
          }
        },
        "6a50c3b5d5c6481098d1c27067ca6429": {
          "model_module": "bqplot",
          "model_module_version": "^0.5",
          "model_name": "LinearScaleModel",
          "state": {
            "_model_module": "bqplot",
            "_model_module_version": "^0.5",
            "_model_name": "LinearScaleModel",
            "_view_count": null,
            "_view_module": "bqplot",
            "_view_module_version": "^0.5",
            "_view_name": "LinearScale",
            "allow_padding": true,
            "max": 1,
            "mid_range": 0.8,
            "min": 0,
            "min_range": 0.6,
            "reverse": false,
            "stabilized": false
          }
        },
        "6aa8647ee6314d57828d6ecb2550fd5e": {
          "model_module": "@jupyter-widgets/base",
          "model_module_version": "1.2.0",
          "model_name": "LayoutModel",
          "state": {
            "_model_module": "@jupyter-widgets/base",
            "_model_module_version": "1.2.0",
            "_model_name": "LayoutModel",
            "_view_count": null,
            "_view_module": "@jupyter-widgets/base",
            "_view_module_version": "1.2.0",
            "_view_name": "LayoutView",
            "align_content": null,
            "align_items": null,
            "align_self": null,
            "border": null,
            "bottom": null,
            "display": null,
            "flex": null,
            "flex_flow": null,
            "grid_area": null,
            "grid_auto_columns": null,
            "grid_auto_flow": null,
            "grid_auto_rows": null,
            "grid_column": null,
            "grid_gap": null,
            "grid_row": null,
            "grid_template_areas": null,
            "grid_template_columns": null,
            "grid_template_rows": null,
            "height": null,
            "justify_content": null,
            "justify_items": null,
            "left": null,
            "margin": null,
            "max_height": null,
            "max_width": null,
            "min_height": null,
            "min_width": null,
            "object_fit": null,
            "object_position": null,
            "order": null,
            "overflow": null,
            "overflow_x": null,
            "overflow_y": null,
            "padding": null,
            "right": null,
            "top": null,
            "visibility": null,
            "width": null
          }
        },
        "6d9be9bf1d03425b899b0e18364c061e": {
          "model_module": "ipyvolume",
          "model_module_version": "~0.6.3",
          "model_name": "FigureModel",
          "state": {
            "_dom_classes": [],
            "_model_module": "ipyvolume",
            "_model_module_version": "~0.6.3",
            "_model_name": "FigureModel",
            "_shaders": {},
            "_view_count": null,
            "_view_module": "ipyvolume",
            "_view_module_version": "~0.6.3",
            "_view_name": "FigureView",
            "ambient_coefficient": 0.5,
            "animation": 1000,
            "animation_exponent": 1,
            "box_center": [
              0.5,
              0.5,
              0.5
            ],
            "box_size": [
              1,
              1,
              1
            ],
            "camera": "IPY_MODEL_54ded0a1f63640a7ba57bbe8133fb416",
            "camera_center": [
              0,
              0,
              0
            ],
            "camera_control": "trackball",
            "camera_fov": 45,
            "capture_fps": null,
            "controls": null,
            "cube_resolution": 512,
            "diffuse_coefficient": 0.8,
            "displayscale": 1,
            "eye_separation": 6.4,
            "height": 400,
            "layout": "IPY_MODEL_48bc94faf047424d904440c2b4add96d",
            "lights": [],
            "matrix_projection": [
              2.4142135623730954,
              0,
              0,
              0,
              0,
              2.4142135623730954,
              0,
              0,
              0,
              0,
              -1.00010000500025,
              -1,
              0,
              0,
              -0.200010000500025,
              0
            ],
            "matrix_world": [
              0.23327157323413183,
              0.085356114096006,
              -0.968658199215442,
              0,
              -0.10243247575684433,
              0.9927548902909367,
              0.06281174821444181,
              0,
              0.9670015310387037,
              0.08456986218423523,
              0.2403247331818822,
              0,
              -0.5489203142579958,
              -0.5813404332855889,
              -1.6672391410904135,
              1.0000000000000002
            ],
            "meshes": [],
            "mouse_mode": "normal",
            "orientation_control": false,
            "panorama_mode": "no",
            "pixel_ratio": null,
            "popup_debouce": 100,
            "render_continuous": false,
            "scales": {
              "x": "IPY_MODEL_c81e060bf8204253a1a62a0cab41fa47",
              "y": "IPY_MODEL_3784fab3eeaa47cf96d81e9fed2a8fcd",
              "z": "IPY_MODEL_66eabad37349445b885126183b2cc9e6"
            },
            "scatters": [
              "IPY_MODEL_1e0f832718884795a66b5298f76d5849"
            ],
            "scene": "IPY_MODEL_4e1e62e7203d41dc988ebdb705b8865e",
            "selection_mode": "replace",
            "selector": "lasso",
            "show": "render",
            "slice_x": 0,
            "slice_y": 0,
            "slice_z": 0,
            "specular_coefficient": 0.5,
            "specular_exponent": 5,
            "stereo": false,
            "style": {
              "axes": {
                "color": "black",
                "label": {
                  "color": "black"
                },
                "ticklabel": {
                  "color": "black"
                },
                "visible": true
              },
              "background-color": "white",
              "box": {
                "visible": true
              }
            },
            "volumes": [],
            "width": 400,
            "xlabel": "x",
            "ylabel": "y",
            "zlabel": "z"
          }
        },
        "6f03db6839334eb2af87dd50d23c66fc": {
          "model_module": "jupyter-vue",
          "model_module_version": "^1.10.1",
          "model_name": "TemplateModel",
          "state": {
            "_model_module": "jupyter-vue",
            "_model_module_version": "^1.10.1",
            "_model_name": "TemplateModel",
            "_view_count": null,
            "_view_module": null,
            "_view_module_version": "",
            "_view_name": null,
            "template": "<template>\n    <div style=\"padding: 5px;\">\n        <div v-for=\"(mark, index) in marks\" :key=\"index\">\n            <v-checkbox hide-details dense style=\"margin-top: 0px; padding-top 0px\"\n                v-model=\"mark.visible\"\n                off-icon=\"mdi-eye-off\"\n                :on-icon=\"mark.icon\"\n                :color=\"mark.description_color\"\n                :background-color=\"mark.hovered ? '#ccc' : 'unset'\"\n                :label=\"mark.description\"></v-checkbox>\n        </div>\n    </div>\n</template>\n<style id=\"fruit-selector-style-file\">\n    .fruit-selector-file td {\n        border: 1px solid #999;\n        padding: 5px 10px ;\n    }\n    .fruit-selector-file {\n        border-collapse: collapse;\n    }\n    .fruit-selector-file td.selected {\n        width: 50px;\n    }\n    .ipv-main-container {\n        background-color: white;\n    }\n    .ipv-main-container:fullscreen {\n        display: flex;\n        justify-content: center;\n        align-items: center;\n        align-items: center;\n    }\n</style>\n<script>\n    module.export = {\n        mounted() {\n            (async () => {\n                const figureWidgetModel = await this.viewCtx.getModelById(this.figure.substr(10));\n                console.log('figure', figureWidgetModel);\n                this.$set(this.models, 'figure', this.bbproxy(figureWidgetModel, [\"stereo\"], {\n                    \"scatters\": [\"visible\", \"description\", \"icon\", \"description_color\", \"hovered\"],\n                    \"meshes\": [\"visible\", \"description\", \"icon\", \"description_color\", \"hovered\"],\n                    \"volumes\": [\"visible\", \"description\", \"icon\", \"description_color\", \"hovered\"],\n                }));\n            })();\n        },\n        computed: {\n            marks() {\n                return [...this.models.figure.scatters, ...this.models.figure.meshes, ...this.models.figure.volumes]\n            },\n            // anyhover() {\n            //     if(this.models.scatters) {\n\n            //     }\n            //     return this.models.scatters && !this.models.scatters.every((s) => !s.hovered)\n            // }\n        },\n        methods: {\n            bbproxy(model, attrs, widgetAttrs) {\n                const proxy = {}\n\n                attrs.forEach((attr) => {\n                    console.log('setting', attr)\n                    let valueCopy = model.get(attr);\n                    model.on('change:' + attr, (_widget, value) => {\n                        proxy[attr] = value\n                    })\n                    Object.defineProperty(proxy, attr, {\n                        enumerable: true,\n                        configurable: true,                            \n                        get: () => {\n                            return valueCopy;\n                        },\n                        set: (value) => {\n                            valueCopy = value;\n                            model.set(attr, value);\n                            model.save_changes();\n                        },\n                    });\n                })\n                if(widgetAttrs) {\n                    Object.keys(widgetAttrs).forEach((attr) => {\n                        console.log('setting list', attr)\n                        let listValue = model.get(attr);\n                        let listValueProxy = [];\n                        if(listValue) {\n                            listValueProxy = listValue.map((k) => this.bbproxy(k, widgetAttrs[attr]));\n                        }\n                        model.on('change:' + attr, (_widget, value) => {\n                            console.log('changed list', attr, value)\n                            if(value) {\n                                proxy[attr] = value.map((k) => this.bbproxy(k, widgetAttrs[attr]))\n                            } else {\n                                proxy[attr] = null;\n                            }\n                        });\n\n                        Object.defineProperty(proxy, attr, {\n                            enumerable: true,\n                            configurable: true,                            \n                            get: () => {\n                                return listValueProxy;\n                            },\n                            set: (value) => {\n                                listValueProxy = value;\n                                console.log('ignore propagating set')\n                            },\n                        });\n                    })\n                }\n\n                return proxy;\n            },\n        }\n    }\n\n</script>\n"
          }
        },
        "73ea65be50d04172a07be5c2aacc3ffc": {
          "model_module": "@jupyter-widgets/base",
          "model_module_version": "1.2.0",
          "model_name": "LayoutModel",
          "state": {
            "_model_module": "@jupyter-widgets/base",
            "_model_module_version": "1.2.0",
            "_model_name": "LayoutModel",
            "_view_count": null,
            "_view_module": "@jupyter-widgets/base",
            "_view_module_version": "1.2.0",
            "_view_name": "LayoutView",
            "align_content": null,
            "align_items": null,
            "align_self": null,
            "border": null,
            "bottom": null,
            "display": null,
            "flex": null,
            "flex_flow": null,
            "grid_area": null,
            "grid_auto_columns": null,
            "grid_auto_flow": null,
            "grid_auto_rows": null,
            "grid_column": null,
            "grid_gap": null,
            "grid_row": null,
            "grid_template_areas": null,
            "grid_template_columns": null,
            "grid_template_rows": null,
            "height": null,
            "justify_content": null,
            "justify_items": null,
            "left": null,
            "margin": null,
            "max_height": null,
            "max_width": null,
            "min_height": null,
            "min_width": null,
            "object_fit": null,
            "object_position": null,
            "order": null,
            "overflow": null,
            "overflow_x": null,
            "overflow_y": null,
            "padding": null,
            "right": null,
            "top": null,
            "visibility": null,
            "width": null
          }
        },
        "7efa0c4c3db14096965f29c07bfc2d9a": {
          "model_module": "jupyter-threejs",
          "model_module_version": "^2.4.1",
          "model_name": "ShaderMaterialModel",
          "state": {
            "_model_module": "jupyter-threejs",
            "_model_module_version": "^2.4.1",
            "_model_name": "ShaderMaterialModel",
            "_view_count": null,
            "_view_module": null,
            "_view_module_version": "",
            "_view_name": null,
            "alphaTest": 0,
            "blendDst": "OneMinusSrcAlphaFactor",
            "blendDstAlpha": 0,
            "blendEquation": "AddEquation",
            "blendEquationAlpha": 0,
            "blendSrc": "SrcAlphaFactor",
            "blendSrcAlpha": 0,
            "blending": "NormalBlending",
            "clipIntersection": false,
            "clipShadows": false,
            "clipping": false,
            "clippingPlanes": [],
            "colorWrite": true,
            "defines": null,
            "depthFunc": "LessEqualDepth",
            "depthTest": true,
            "depthWrite": true,
            "dithering": false,
            "extensions": {},
            "flatShading": false,
            "fog": false,
            "fragmentShader": "",
            "lights": false,
            "linewidth": 1,
            "morphNormals": false,
            "morphTargets": false,
            "name": "",
            "opacity": 1,
            "overdraw": 0,
            "polygonOffset": false,
            "polygonOffsetFactor": 0,
            "polygonOffsetUnits": 0,
            "precision": null,
            "premultipliedAlpha": false,
            "shadowSide": null,
            "side": "FrontSide",
            "skinning": false,
            "transparent": false,
            "type": "ShaderMaterial",
            "uniforms": {},
            "uniformsNeedUpdate": false,
            "vertexColors": "NoColors",
            "vertexShader": "",
            "visible": true,
            "wireframe": false,
            "wireframeLinewidth": 1
          }
        },
        "80afef29d68c4720a79cf8dc1b0d2c7c": {
          "model_module": "ipyvolume",
          "model_module_version": "~0.6.3",
          "model_name": "ScatterModel",
          "state": {
            "_model_module": "ipyvolume",
            "_model_module_version": "~0.6.3",
            "_model_name": "ScatterModel",
            "_view_count": null,
            "_view_module": "ipyvolume",
            "_view_module_version": "~0.6.3",
            "_view_name": "ScatterView",
            "aux": null,
            "aux_scale": null,
            "cast_shadow": true,
            "clicked": false,
            "clicked_index": null,
            "color": [
              {
                "dtype": "float32",
                "shape": [
                  178,
                  4
                ]
              }
            ],
            "color_scale": null,
            "color_selected": "white",
            "connected": false,
            "description": "Scatter 0",
            "description_color": "red",
            "geo": "sphere",
            "geo_matrix": [
              1,
              0,
              0,
              0,
              0,
              1,
              0,
              0,
              0,
              0,
              1,
              0,
              0,
              0,
              0,
              1
            ],
            "hovered": false,
            "hovered_index": null,
            "icon": "mdi-chart-bubble",
            "line_material": "IPY_MODEL_a2b3011c4003425e8c5aadfee31b646c",
            "material": "IPY_MODEL_7efa0c4c3db14096965f29c07bfc2d9a",
            "popup": null,
            "receive_shadow": true,
            "selected": null,
            "sequence_index": 0,
            "shader_snippets": {
              "size": "\n"
            },
            "size": 4,
            "size_selected": 2.6,
            "size_x_scale": null,
            "size_y_scale": null,
            "size_z_scale": null,
            "texture": null,
            "visible": true,
            "vx": null,
            "vy": null,
            "vz": null,
            "x": [
              {
                "dtype": "float32",
                "shape": [
                  178
                ]
              }
            ],
            "y": [
              {
                "dtype": "float32",
                "shape": [
                  178
                ]
              }
            ],
            "z": [
              {
                "dtype": "float32",
                "shape": [
                  178
                ]
              }
            ]
          }
        },
        "811b98fd4ee34c15a2946e2f09de871e": {
          "model_module": "jupyter-vuetify",
          "model_module_version": "^1.8.10",
          "model_name": "VuetifyTemplateModel",
          "state": {
            "_component_instances": [],
            "_dom_classes": [],
            "_jupyter_vue": "IPY_MODEL_8339f2a9171c4bbd9b46173bd17d7340",
            "_model_module": "jupyter-vuetify",
            "_model_module_version": "^1.8.10",
            "_model_name": "VuetifyTemplateModel",
            "_view_count": null,
            "_view_module": "jupyter-vuetify",
            "_view_module_version": "^1.8.10",
            "_view_name": "VuetifyView",
            "children": [],
            "components": null,
            "css": null,
            "data": null,
            "events": [],
            "figure": "IPY_MODEL_c4b61bc74f7246338c67bb793e0c997d",
            "layout": "IPY_MODEL_fe570fa2ae1248a89efb99099d2b6d1f",
            "legend": "IPY_MODEL_0848fe7e08c24d828dde279f51ce98d7",
            "legend_show": true,
            "methods": null,
            "models": {
              "figure": {
                "show": "render"
              }
            },
            "panels": [
              0,
              1,
              2
            ],
            "template": "IPY_MODEL_0bdbfe45c6694739b2b6614ed118643b"
          }
        },
        "837b819da72d4ee5a77745dfb8d7c991": {
          "model_module": "jupyter-vue",
          "model_module_version": "^1.11.0",
          "model_name": "TemplateModel",
          "state": {
            "_model_module": "jupyter-vue",
            "_model_module_version": "^1.11.0",
            "_model_name": "TemplateModel",
            "_view_count": null,
            "_view_module": null,
            "_view_module_version": "",
            "_view_name": null,
            "template": "<template>\n    <div style=\"padding: 5px;\">\n        <div v-for=\"(mark, index) in marks\" :key=\"index\">\n            <v-checkbox hide-details dense style=\"margin-top: 0px; padding-top 0px\"\n                v-model=\"mark.visible\"\n                off-icon=\"mdi-eye-off\"\n                :on-icon=\"mark.icon\"\n                :color=\"mark.description_color\"\n                :background-color=\"mark.hovered ? '#ccc' : 'unset'\"\n                :label=\"mark.description\"></v-checkbox>\n        </div>\n    </div>\n</template>\n<style id=\"fruit-selector-style-file\">\n    .fruit-selector-file td {\n        border: 1px solid #999;\n        padding: 5px 10px ;\n    }\n    .fruit-selector-file {\n        border-collapse: collapse;\n    }\n    .fruit-selector-file td.selected {\n        width: 50px;\n    }\n    .ipv-main-container {\n        background-color: white;\n    }\n    .ipv-main-container:fullscreen {\n        display: flex;\n        justify-content: center;\n        align-items: center;\n        align-items: center;\n    }\n</style>\n<script>\n    module.export = {\n        mounted() {\n            (async () => {\n                const figureWidgetModel = await this.viewCtx.getModelById(this.figure.substr(10));\n                console.log('figure', figureWidgetModel);\n                this.$set(this.models, 'figure', this.bbproxy(figureWidgetModel, [\"stereo\"], {\n                    \"scatters\": [\"visible\", \"description\", \"icon\", \"description_color\", \"hovered\"],\n                    \"meshes\": [\"visible\", \"description\", \"icon\", \"description_color\", \"hovered\"],\n                    \"volumes\": [\"visible\", \"description\", \"icon\", \"description_color\", \"hovered\"],\n                }));\n            })();\n        },\n        computed: {\n            marks() {\n                return [...this.models.figure.scatters, ...this.models.figure.meshes, ...this.models.figure.volumes]\n            },\n            // anyhover() {\n            //     if(this.models.scatters) {\n\n            //     }\n            //     return this.models.scatters && !this.models.scatters.every((s) => !s.hovered)\n            // }\n        },\n        methods: {\n            bbproxy(model, attrs, widgetAttrs) {\n                const proxy = {}\n\n                attrs.forEach((attr) => {\n                    console.log('setting', attr)\n                    let valueCopy = model.get(attr);\n                    model.on('change:' + attr, (_widget, value) => {\n                        proxy[attr] = value\n                    })\n                    Object.defineProperty(proxy, attr, {\n                        enumerable: true,\n                        configurable: true,                            \n                        get: () => {\n                            return valueCopy;\n                        },\n                        set: (value) => {\n                            valueCopy = value;\n                            model.set(attr, value);\n                            model.save_changes();\n                        },\n                    });\n                })\n                if(widgetAttrs) {\n                    Object.keys(widgetAttrs).forEach((attr) => {\n                        console.log('setting list', attr)\n                        let listValue = model.get(attr);\n                        let listValueProxy = [];\n                        if(listValue) {\n                            listValueProxy = listValue.map((k) => this.bbproxy(k, widgetAttrs[attr]));\n                        }\n                        model.on('change:' + attr, (_widget, value) => {\n                            console.log('changed list', attr, value)\n                            if(value) {\n                                proxy[attr] = value.map((k) => this.bbproxy(k, widgetAttrs[attr]))\n                            } else {\n                                proxy[attr] = null;\n                            }\n                        });\n\n                        Object.defineProperty(proxy, attr, {\n                            enumerable: true,\n                            configurable: true,                            \n                            get: () => {\n                                return listValueProxy;\n                            },\n                            set: (value) => {\n                                listValueProxy = value;\n                                console.log('ignore propagating set')\n                            },\n                        });\n                    })\n                }\n\n                return proxy;\n            },\n        }\n    }\n\n</script>\n"
          }
        },
        "8480ceed1b984bdfb1b030d28113a224": {
          "model_module": "bqplot",
          "model_module_version": "^0.5",
          "model_name": "LinearScaleModel",
          "state": {
            "_model_module": "bqplot",
            "_model_module_version": "^0.5",
            "_model_name": "LinearScaleModel",
            "_view_count": null,
            "_view_module": "bqplot",
            "_view_module_version": "^0.5",
            "_view_name": "LinearScale",
            "allow_padding": true,
            "max": 1,
            "mid_range": 0.8,
            "min": 0,
            "min_range": 0.6,
            "reverse": false,
            "stabilized": false
          }
        },
        "8ebc3f3432a54252bf17325f07557e69": {
          "model_module": "jupyter-vuetify",
          "model_module_version": "^1.9.4",
          "model_name": "VuetifyTemplateModel",
          "state": {
            "_component_instances": [],
            "_dom_classes": [],
            "_jupyter_vue": "IPY_MODEL_30a683d2596d472eb0c19a57ee489429",
            "_model_module": "jupyter-vuetify",
            "_model_module_version": "^1.9.4",
            "_model_name": "VuetifyTemplateModel",
            "_view_count": null,
            "_view_module": "jupyter-vuetify",
            "_view_module_version": "^1.9.4",
            "_view_name": "VuetifyView",
            "components": null,
            "css": null,
            "data": null,
            "events": [],
            "figure": "IPY_MODEL_193e2716acc04fbca2fb04e6c68abdd3",
            "layout": "IPY_MODEL_6aa8647ee6314d57828d6ecb2550fd5e",
            "methods": null,
            "models": {
              "figure": {
                "meshes": [],
                "scatters": [
                  {
                    "description": "Scatter 0",
                    "description_color": "red",
                    "hovered": false,
                    "icon": "mdi-chart-bubble",
                    "visible": true
                  }
                ],
                "stereo": false,
                "volumes": []
              }
            },
            "template": "IPY_MODEL_837b819da72d4ee5a77745dfb8d7c991"
          }
        },
        "8fedea2729684f1f920493a4bd31a35f": {
          "model_module": "jupyter-vue",
          "model_module_version": "^1.10.1",
          "model_name": "TemplateModel",
          "state": {
            "_model_module": "jupyter-vue",
            "_model_module_version": "^1.10.1",
            "_model_name": "TemplateModel",
            "_view_count": null,
            "_view_module": null,
            "_view_module_version": "",
            "_view_name": null,
            "template": "<template>\n    <div class=\"ipyvolume-container-root\">\n        <jupyter-widget ref=\"figure\" :widget=\"figure\"></jupyter-widget>\n        <div class=ipyvolume-container-controls>\n            <v-expansion-panels accordion multiple v-model=\"panels\" flat>\n                <v-expansion-panel>\n                    <v-expansion-panel-header>Legend</v-expansion-panel-header>\n                    <v-expansion-panel-content>\n                        <jupyter-widget ref=\"legend\" :widget=\"legend\"></jupyter-widget>\n                    </v-expansion-panel-content>\n                </v-expansion-panel>\n                <v-expansion-panel>\n                    <v-expansion-panel-header>Misc</v-expansion-panel-header>\n                    <v-expansion-panel-content>\n                        <jupyter-widget v-for=\"child in children\" :key=\"child\" :widget=\"child\"></jupyter-widget>\n                    </v-expansion-panel-content>\n                </v-expansion-panel>\n                <v-expansion-panel>\n                    <v-expansion-panel-header>Debug</v-expansion-panel-header>\n                    <v-expansion-panel-content>\n                        <p>Show render pass:</p>\n                        <v-btn-toggle v-model=\"models.figure.show\" tile group>\n                            <v-btn value=\"render\">Render</v-btn>\n                            <v-btn value=\"front\">Front</v-btn>\n                            <v-btn value=\"back\">Back</v-btn>\n                            <v-btn value=\"id\">ID</v-btn>\n                            <v-btn value=\"coordinate\">Coordinate</v-btn>\n                        </v-btn-toggle>\n                    </v-expansion-panel-content>\n                </v-expansion-panel>\n            </v-expansion-panels>\n        </div>\n    </div>\n</template>\n<style id=\"ipyvolume-container\">\n    .ipyvolume-container-root {\n        display: flex;\n    }\n    .ipyvolume-container-controls {\n        display: flex;\n        flex-direction: column;\n    }\n</style>\n\n<script>\n    module.export = {\n        created() {\n            console.log('created', this.$refs)\n        },\n        mounted() {\n            const figureComponent = this.$refs.figure;\n            (async () => {\n                const figure = await this.viewCtx.getModelById(this.figure.substr(10));\n                function bbproxy(model, attrs, widgetAttrs) {\n                    const proxy = {}\n\n                    attrs.forEach((attr) => {\n                        console.log('setting', attr)\n                        let valueCopy = model.get(attr);\n                        model.on('change:' + attr, (_widget, value) => {\n                            proxy[attr] = value\n                        })\n                        Object.defineProperty(proxy, attr, {\n                            enumerable: true,\n                            configurable: true,\n                            get: () => {\n                                return valueCopy;\n                            },\n                            set: (value) => {\n                                valueCopy = value;\n                                model.set(attr, value);\n                                model.save_changes();\n                            },\n                        });\n                    })\n                    if(widgetAttrs) {\n                        Object.keys(widgetAttrs).forEach((attr) => {\n                            console.log('setting list', attr)\n                            let listValue = model.get(attr);\n                            let listValueProxy = [];\n                            if(listValue) {\n                                listValueProxy = listValue.map((k) => bbproxy(k, widgetAttrs[attr]));\n                            }\n                            proxy[attr] = listValueProxy;\n                            model.on('change:' + attr, (_widget, value) => {\n                                console.log('changed list', attr, value)\n                                if(value) {\n                                    proxy[attr] = value.map((k) => bbproxy(k, widgetAttrs[attr]))\n                                } else {\n                                    proxy[attr] = null;\n                                }\n                            });\n                            Object.defineProperty(proxy, attr, {\n                                enumerable: true,\n                                configurable: true,\n                                get: () => {\n                                    return listValueProxy;\n                                },\n                                set: (value) => {\n                                    listValueProxy = value;\n                                    console.log('ignore propagating set')\n                                },\n                            });\n                        })\n                    }\n\n                    return proxy;\n                }\n                this.$set(this.models, 'figure', bbproxy(figure, [\"show\"]));\n            })();\n        },\n        methods: {\n        }\n    }\n\n</script>\n"
          }
        },
        "9b604ca0bf7c460387b89cdc90b46450": {
          "model_module": "@jupyter-widgets/base",
          "model_module_version": "1.2.0",
          "model_name": "LayoutModel",
          "state": {
            "_model_module": "@jupyter-widgets/base",
            "_model_module_version": "1.2.0",
            "_model_name": "LayoutModel",
            "_view_count": null,
            "_view_module": "@jupyter-widgets/base",
            "_view_module_version": "1.2.0",
            "_view_name": "LayoutView",
            "align_content": null,
            "align_items": null,
            "align_self": null,
            "border": null,
            "bottom": null,
            "display": null,
            "flex": null,
            "flex_flow": null,
            "grid_area": null,
            "grid_auto_columns": null,
            "grid_auto_flow": null,
            "grid_auto_rows": null,
            "grid_column": null,
            "grid_gap": null,
            "grid_row": null,
            "grid_template_areas": null,
            "grid_template_columns": null,
            "grid_template_rows": null,
            "height": null,
            "justify_content": null,
            "justify_items": null,
            "left": null,
            "margin": null,
            "max_height": null,
            "max_width": null,
            "min_height": null,
            "min_width": null,
            "object_fit": null,
            "object_position": null,
            "order": null,
            "overflow": null,
            "overflow_x": null,
            "overflow_y": null,
            "padding": null,
            "right": null,
            "top": null,
            "visibility": null,
            "width": null
          }
        },
        "9c8aec626c6e496c881dcddc23c1eea3": {
          "model_module": "ipyvolume",
          "model_module_version": "~0.6.3",
          "model_name": "ScatterModel",
          "state": {
            "_model_module": "ipyvolume",
            "_model_module_version": "~0.6.3",
            "_model_name": "ScatterModel",
            "_view_count": null,
            "_view_module": "ipyvolume",
            "_view_module_version": "~0.6.3",
            "_view_name": "ScatterView",
            "aux": null,
            "aux_scale": null,
            "cast_shadow": true,
            "clicked": false,
            "clicked_index": null,
            "color": [
              {
                "dtype": "float32",
                "shape": [
                  178,
                  4
                ]
              }
            ],
            "color_scale": null,
            "color_selected": "white",
            "connected": false,
            "description": "Scatter 0",
            "description_color": "red",
            "geo": "sphere",
            "geo_matrix": [
              1,
              0,
              0,
              0,
              0,
              1,
              0,
              0,
              0,
              0,
              1,
              0,
              0,
              0,
              0,
              1
            ],
            "hovered": false,
            "hovered_index": null,
            "icon": "mdi-chart-bubble",
            "line_material": "IPY_MODEL_0da368c44ada4278965f36065e43d7a6",
            "material": "IPY_MODEL_a7213123ac364abb882e825e299e5433",
            "popup": null,
            "receive_shadow": true,
            "selected": null,
            "sequence_index": 0,
            "shader_snippets": {
              "size": "\n"
            },
            "size": 4,
            "size_selected": 2.6,
            "size_x_scale": null,
            "size_y_scale": null,
            "size_z_scale": null,
            "texture": null,
            "visible": true,
            "vx": null,
            "vy": null,
            "vz": null,
            "x": [
              {
                "dtype": "float32",
                "shape": [
                  178
                ]
              }
            ],
            "y": [
              {
                "dtype": "float32",
                "shape": [
                  178
                ]
              }
            ],
            "z": [
              {
                "dtype": "float32",
                "shape": [
                  178
                ]
              }
            ]
          }
        },
        "a15caeae4b124685a82dd713691b4138": {
          "model_module": "bqplot",
          "model_module_version": "^0.5",
          "model_name": "LinearScaleModel",
          "state": {
            "_model_module": "bqplot",
            "_model_module_version": "^0.5",
            "_model_name": "LinearScaleModel",
            "_view_count": null,
            "_view_module": "bqplot",
            "_view_module_version": "^0.5",
            "_view_name": "LinearScale",
            "allow_padding": true,
            "max": 1,
            "mid_range": 0.8,
            "min": 0,
            "min_range": 0.6,
            "reverse": false,
            "stabilized": false
          }
        },
        "a256faf67a044494a087bda2796fe839": {
          "model_module": "bqplot",
          "model_module_version": "^0.5",
          "model_name": "LinearScaleModel",
          "state": {
            "_model_module": "bqplot",
            "_model_module_version": "^0.5",
            "_model_name": "LinearScaleModel",
            "_view_count": null,
            "_view_module": "bqplot",
            "_view_module_version": "^0.5",
            "_view_name": "LinearScale",
            "allow_padding": true,
            "max": 1,
            "mid_range": 0.8,
            "min": 0,
            "min_range": 0.6,
            "reverse": false,
            "stabilized": false
          }
        },
        "a2b3011c4003425e8c5aadfee31b646c": {
          "model_module": "jupyter-threejs",
          "model_module_version": "^2.4.1",
          "model_name": "ShaderMaterialModel",
          "state": {
            "_model_module": "jupyter-threejs",
            "_model_module_version": "^2.4.1",
            "_model_name": "ShaderMaterialModel",
            "_view_count": null,
            "_view_module": null,
            "_view_module_version": "",
            "_view_name": null,
            "alphaTest": 0,
            "blendDst": "OneMinusSrcAlphaFactor",
            "blendDstAlpha": 0,
            "blendEquation": "AddEquation",
            "blendEquationAlpha": 0,
            "blendSrc": "SrcAlphaFactor",
            "blendSrcAlpha": 0,
            "blending": "NormalBlending",
            "clipIntersection": false,
            "clipShadows": false,
            "clipping": false,
            "clippingPlanes": [],
            "colorWrite": true,
            "defines": null,
            "depthFunc": "LessEqualDepth",
            "depthTest": true,
            "depthWrite": true,
            "dithering": false,
            "extensions": {},
            "flatShading": false,
            "fog": false,
            "fragmentShader": "",
            "lights": false,
            "linewidth": 1,
            "morphNormals": false,
            "morphTargets": false,
            "name": "",
            "opacity": 1,
            "overdraw": 0,
            "polygonOffset": false,
            "polygonOffsetFactor": 0,
            "polygonOffsetUnits": 0,
            "precision": null,
            "premultipliedAlpha": false,
            "shadowSide": null,
            "side": "FrontSide",
            "skinning": false,
            "transparent": false,
            "type": "ShaderMaterial",
            "uniforms": {},
            "uniformsNeedUpdate": false,
            "vertexColors": "NoColors",
            "vertexShader": "",
            "visible": true,
            "wireframe": false,
            "wireframeLinewidth": 1
          }
        },
        "a7213123ac364abb882e825e299e5433": {
          "model_module": "jupyter-threejs",
          "model_module_version": "^2.4.1",
          "model_name": "ShaderMaterialModel",
          "state": {
            "_model_module": "jupyter-threejs",
            "_model_module_version": "^2.4.1",
            "_model_name": "ShaderMaterialModel",
            "_view_count": null,
            "_view_module": null,
            "_view_module_version": "",
            "_view_name": null,
            "alphaTest": 0,
            "blendDst": "OneMinusSrcAlphaFactor",
            "blendDstAlpha": 0,
            "blendEquation": "AddEquation",
            "blendEquationAlpha": 0,
            "blendSrc": "SrcAlphaFactor",
            "blendSrcAlpha": 0,
            "blending": "NormalBlending",
            "clipIntersection": false,
            "clipShadows": false,
            "clipping": false,
            "clippingPlanes": [],
            "colorWrite": true,
            "defines": null,
            "depthFunc": "LessEqualDepth",
            "depthTest": true,
            "depthWrite": true,
            "dithering": false,
            "extensions": {},
            "flatShading": false,
            "fog": false,
            "fragmentShader": "",
            "lights": false,
            "linewidth": 1,
            "morphNormals": false,
            "morphTargets": false,
            "name": "",
            "opacity": 1,
            "overdraw": 0,
            "polygonOffset": false,
            "polygonOffsetFactor": 0,
            "polygonOffsetUnits": 0,
            "precision": null,
            "premultipliedAlpha": false,
            "shadowSide": null,
            "side": "FrontSide",
            "skinning": false,
            "transparent": false,
            "type": "ShaderMaterial",
            "uniforms": {},
            "uniformsNeedUpdate": false,
            "vertexColors": "NoColors",
            "vertexShader": "",
            "visible": true,
            "wireframe": false,
            "wireframeLinewidth": 1
          }
        },
        "b8730366430644d8881d0e406cdb3cc2": {
          "model_module": "jupyter-threejs",
          "model_module_version": "^2.4.1",
          "model_name": "ShaderMaterialModel",
          "state": {
            "_model_module": "jupyter-threejs",
            "_model_module_version": "^2.4.1",
            "_model_name": "ShaderMaterialModel",
            "_view_count": null,
            "_view_module": null,
            "_view_module_version": "",
            "_view_name": null,
            "alphaTest": 0,
            "blendDst": "OneMinusSrcAlphaFactor",
            "blendDstAlpha": 0,
            "blendEquation": "AddEquation",
            "blendEquationAlpha": 0,
            "blendSrc": "SrcAlphaFactor",
            "blendSrcAlpha": 0,
            "blending": "NormalBlending",
            "clipIntersection": false,
            "clipShadows": false,
            "clipping": false,
            "clippingPlanes": [],
            "colorWrite": true,
            "defines": null,
            "depthFunc": "LessEqualDepth",
            "depthTest": true,
            "depthWrite": true,
            "dithering": false,
            "extensions": {},
            "flatShading": false,
            "fog": false,
            "fragmentShader": "",
            "lights": false,
            "linewidth": 1,
            "morphNormals": false,
            "morphTargets": false,
            "name": "",
            "opacity": 1,
            "overdraw": 0,
            "polygonOffset": false,
            "polygonOffsetFactor": 0,
            "polygonOffsetUnits": 0,
            "precision": null,
            "premultipliedAlpha": false,
            "shadowSide": null,
            "side": "FrontSide",
            "skinning": false,
            "transparent": false,
            "type": "ShaderMaterial",
            "uniforms": {},
            "uniformsNeedUpdate": false,
            "vertexColors": "NoColors",
            "vertexShader": "",
            "visible": true,
            "wireframe": false,
            "wireframeLinewidth": 1
          }
        },
        "bc0f93b2ee2345bbabf31e52ed81a2ff": {
          "model_module": "jupyter-vue",
          "model_module_version": "^1.11.0",
          "model_name": "HtmlModel",
          "state": {
            "_dom_classes": [],
            "_events": [],
            "_jupyter_vue": "IPY_MODEL_30a683d2596d472eb0c19a57ee489429",
            "_model_module": "jupyter-vue",
            "_model_module_version": "^1.11.0",
            "_model_name": "HtmlModel",
            "_view_count": null,
            "_view_module": "jupyter-vue",
            "_view_module_version": "^1.11.0",
            "_view_name": "VueView",
            "attributes": {},
            "children": [],
            "class_": null,
            "layout": null,
            "slot": null,
            "style_": "display: none",
            "tag": "span",
            "v_model": "!!disabled!!",
            "v_on": null,
            "v_slots": []
          }
        },
        "c16922b46d8d418ab9beda8e5aa483bf": {
          "model_module": "jupyter-threejs",
          "model_module_version": "^2.4.1",
          "model_name": "ShaderMaterialModel",
          "state": {
            "_model_module": "jupyter-threejs",
            "_model_module_version": "^2.4.1",
            "_model_name": "ShaderMaterialModel",
            "_view_count": null,
            "_view_module": null,
            "_view_module_version": "",
            "_view_name": null,
            "alphaTest": 0,
            "blendDst": "OneMinusSrcAlphaFactor",
            "blendDstAlpha": 0,
            "blendEquation": "AddEquation",
            "blendEquationAlpha": 0,
            "blendSrc": "SrcAlphaFactor",
            "blendSrcAlpha": 0,
            "blending": "NormalBlending",
            "clipIntersection": false,
            "clipShadows": false,
            "clipping": false,
            "clippingPlanes": [],
            "colorWrite": true,
            "defines": null,
            "depthFunc": "LessEqualDepth",
            "depthTest": true,
            "depthWrite": true,
            "dithering": false,
            "extensions": {},
            "flatShading": false,
            "fog": false,
            "fragmentShader": "",
            "lights": false,
            "linewidth": 1,
            "morphNormals": false,
            "morphTargets": false,
            "name": "",
            "opacity": 1,
            "overdraw": 0,
            "polygonOffset": false,
            "polygonOffsetFactor": 0,
            "polygonOffsetUnits": 0,
            "precision": null,
            "premultipliedAlpha": false,
            "shadowSide": null,
            "side": "FrontSide",
            "skinning": false,
            "transparent": false,
            "type": "ShaderMaterial",
            "uniforms": {},
            "uniformsNeedUpdate": false,
            "vertexColors": "NoColors",
            "vertexShader": "",
            "visible": true,
            "wireframe": false,
            "wireframeLinewidth": 1
          }
        },
        "c436181ca22c4f819d7d972cf1fc43ce": {
          "model_module": "jupyter-vuetify",
          "model_module_version": "^1.8.10",
          "model_name": "VuetifyTemplateModel",
          "state": {
            "_component_instances": [],
            "_dom_classes": [],
            "_jupyter_vue": "IPY_MODEL_620be5255565458fbc0a92d90e664195",
            "_model_module": "jupyter-vuetify",
            "_model_module_version": "^1.8.10",
            "_model_name": "VuetifyTemplateModel",
            "_view_count": null,
            "_view_module": "jupyter-vuetify",
            "_view_module_version": "^1.8.10",
            "_view_name": "VuetifyView",
            "children": [],
            "components": null,
            "css": null,
            "data": null,
            "events": [],
            "figure": "IPY_MODEL_65a61477838b4764b3dbc81e0fadc592",
            "layout": "IPY_MODEL_d1eb8364ff9d4bf4b9fc71b2fe8ef94c",
            "legend": "IPY_MODEL_3804daa4b5eb43d18fa907fc55883663",
            "legend_show": true,
            "methods": null,
            "models": {
              "figure": {
                "show": "render"
              }
            },
            "panels": [
              0,
              1,
              2
            ],
            "template": "IPY_MODEL_8fedea2729684f1f920493a4bd31a35f"
          }
        },
        "c4b61bc74f7246338c67bb793e0c997d": {
          "model_module": "ipyvolume",
          "model_module_version": "~0.6.3",
          "model_name": "FigureModel",
          "state": {
            "_dom_classes": [],
            "_model_module": "ipyvolume",
            "_model_module_version": "~0.6.3",
            "_model_name": "FigureModel",
            "_shaders": {},
            "_view_count": null,
            "_view_module": "ipyvolume",
            "_view_module_version": "~0.6.3",
            "_view_name": "FigureView",
            "ambient_coefficient": 0.5,
            "animation": 1000,
            "animation_exponent": 1,
            "box_center": [
              0.5,
              0.5,
              0.5
            ],
            "box_size": [
              1,
              1,
              1
            ],
            "camera": "IPY_MODEL_e2983540055a4bb995b0c137c6334fee",
            "camera_center": [
              0,
              0,
              0
            ],
            "camera_control": "trackball",
            "camera_fov": 45,
            "capture_fps": null,
            "controls": null,
            "cube_resolution": 512,
            "diffuse_coefficient": 0.8,
            "displayscale": 1,
            "eye_separation": 6.4,
            "height": 400,
            "layout": "IPY_MODEL_e8e1525f77544820992121ae0d8eda83",
            "lights": [],
            "matrix_projection": [
              2.4142135623730954,
              0,
              0,
              0,
              0,
              2.4142135623730954,
              0,
              0,
              0,
              0,
              -1.00010000500025,
              -1,
              0,
              0,
              -0.200010000500025,
              0
            ],
            "matrix_world": [
              -0.8342469432492278,
              0.3602239996724109,
              -0.4174574322482837,
              0,
              0.29117333841727905,
              0.9307344270753989,
              0.2212498887040756,
              0,
              0.4682415238680313,
              0.06302456915076912,
              -0.8813499753271136,
              0,
              0.037416040481958596,
              -0.6769914979492896,
              -1.4612212405643312,
              1
            ],
            "meshes": [],
            "mouse_mode": "normal",
            "orientation_control": false,
            "panorama_mode": "no",
            "pixel_ratio": null,
            "popup_debouce": 100,
            "render_continuous": false,
            "scales": {
              "x": "IPY_MODEL_1fd39f469c00449ca7ba556794e17010",
              "y": "IPY_MODEL_a15caeae4b124685a82dd713691b4138",
              "z": "IPY_MODEL_f9c89db3a58444859cce1662a4d0b29f"
            },
            "scatters": [
              "IPY_MODEL_9c8aec626c6e496c881dcddc23c1eea3"
            ],
            "scene": "IPY_MODEL_2d4c439a368f49c795dff725ef660e42",
            "selection_mode": "replace",
            "selector": "lasso",
            "show": "render",
            "slice_x": 0,
            "slice_y": 0,
            "slice_z": 0,
            "specular_coefficient": 0.5,
            "specular_exponent": 5,
            "stereo": false,
            "style": {
              "axes": {
                "color": "black",
                "label": {
                  "color": "black"
                },
                "ticklabel": {
                  "color": "black"
                },
                "visible": true
              },
              "background-color": "white",
              "box": {
                "visible": true
              }
            },
            "volumes": [],
            "width": 400,
            "xlabel": "x",
            "ylabel": "y",
            "zlabel": "z"
          }
        },
        "c81e060bf8204253a1a62a0cab41fa47": {
          "model_module": "bqplot",
          "model_module_version": "^0.5",
          "model_name": "LinearScaleModel",
          "state": {
            "_model_module": "bqplot",
            "_model_module_version": "^0.5",
            "_model_name": "LinearScaleModel",
            "_view_count": null,
            "_view_module": "bqplot",
            "_view_module_version": "^0.5",
            "_view_name": "LinearScale",
            "allow_padding": true,
            "max": 1,
            "mid_range": 0.8,
            "min": 0,
            "min_range": 0.6,
            "reverse": false,
            "stabilized": false
          }
        },
        "d1eb8364ff9d4bf4b9fc71b2fe8ef94c": {
          "model_module": "@jupyter-widgets/base",
          "model_module_version": "1.2.0",
          "model_name": "LayoutModel",
          "state": {
            "_model_module": "@jupyter-widgets/base",
            "_model_module_version": "1.2.0",
            "_model_name": "LayoutModel",
            "_view_count": null,
            "_view_module": "@jupyter-widgets/base",
            "_view_module_version": "1.2.0",
            "_view_name": "LayoutView",
            "align_content": null,
            "align_items": null,
            "align_self": null,
            "border": null,
            "bottom": null,
            "display": null,
            "flex": null,
            "flex_flow": null,
            "grid_area": null,
            "grid_auto_columns": null,
            "grid_auto_flow": null,
            "grid_auto_rows": null,
            "grid_column": null,
            "grid_gap": null,
            "grid_row": null,
            "grid_template_areas": null,
            "grid_template_columns": null,
            "grid_template_rows": null,
            "height": null,
            "justify_content": null,
            "justify_items": null,
            "left": null,
            "margin": null,
            "max_height": null,
            "max_width": null,
            "min_height": null,
            "min_width": null,
            "object_fit": null,
            "object_position": null,
            "order": null,
            "overflow": null,
            "overflow_x": null,
            "overflow_y": null,
            "padding": null,
            "right": null,
            "top": null,
            "visibility": null,
            "width": null
          }
        },
        "d5c29923c1a74f0881f58f7b67078818": {
          "model_module": "@jupyter-widgets/base",
          "model_module_version": "1.2.0",
          "model_name": "LayoutModel",
          "state": {
            "_model_module": "@jupyter-widgets/base",
            "_model_module_version": "1.2.0",
            "_model_name": "LayoutModel",
            "_view_count": null,
            "_view_module": "@jupyter-widgets/base",
            "_view_module_version": "1.2.0",
            "_view_name": "LayoutView",
            "align_content": null,
            "align_items": null,
            "align_self": null,
            "border": null,
            "bottom": null,
            "display": null,
            "flex": null,
            "flex_flow": null,
            "grid_area": null,
            "grid_auto_columns": null,
            "grid_auto_flow": null,
            "grid_auto_rows": null,
            "grid_column": null,
            "grid_gap": null,
            "grid_row": null,
            "grid_template_areas": null,
            "grid_template_columns": null,
            "grid_template_rows": null,
            "height": null,
            "justify_content": null,
            "justify_items": null,
            "left": null,
            "margin": null,
            "max_height": null,
            "max_width": null,
            "min_height": null,
            "min_width": null,
            "object_fit": null,
            "object_position": null,
            "order": null,
            "overflow": null,
            "overflow_x": null,
            "overflow_y": null,
            "padding": null,
            "right": null,
            "top": null,
            "visibility": null,
            "width": null
          }
        },
        "d673fabf61ee4eefbafc94ced02e2292": {
          "model_module": "jupyter-vue",
          "model_module_version": "^1.10.1",
          "model_name": "HtmlModel",
          "state": {
            "_dom_classes": [],
            "_events": [],
            "_jupyter_vue": "IPY_MODEL_620be5255565458fbc0a92d90e664195",
            "_model_module": "jupyter-vue",
            "_model_module_version": "^1.10.1",
            "_model_name": "HtmlModel",
            "_view_count": null,
            "_view_module": "jupyter-vue",
            "_view_module_version": "^1.10.1",
            "_view_name": "VueView",
            "attributes": {},
            "children": [],
            "class_": null,
            "layout": null,
            "slot": null,
            "style_": "display: none",
            "tag": "span",
            "v_model": "!!disabled!!",
            "v_on": null,
            "v_slots": []
          }
        },
        "d971515d40a84afea5a7aa2a69835a99": {
          "model_module": "@jupyter-widgets/base",
          "model_module_version": "1.2.0",
          "model_name": "LayoutModel",
          "state": {
            "_model_module": "@jupyter-widgets/base",
            "_model_module_version": "1.2.0",
            "_model_name": "LayoutModel",
            "_view_count": null,
            "_view_module": "@jupyter-widgets/base",
            "_view_module_version": "1.2.0",
            "_view_name": "LayoutView",
            "align_content": null,
            "align_items": null,
            "align_self": null,
            "border": null,
            "bottom": null,
            "display": null,
            "flex": null,
            "flex_flow": null,
            "grid_area": null,
            "grid_auto_columns": null,
            "grid_auto_flow": null,
            "grid_auto_rows": null,
            "grid_column": null,
            "grid_gap": null,
            "grid_row": null,
            "grid_template_areas": null,
            "grid_template_columns": null,
            "grid_template_rows": null,
            "height": null,
            "justify_content": null,
            "justify_items": null,
            "left": null,
            "margin": null,
            "max_height": null,
            "max_width": null,
            "min_height": null,
            "min_width": null,
            "object_fit": null,
            "object_position": null,
            "order": null,
            "overflow": null,
            "overflow_x": null,
            "overflow_y": null,
            "padding": null,
            "right": null,
            "top": null,
            "visibility": null,
            "width": null
          }
        },
        "dda9ae6cbb0548aa8d17aada053a29b2": {
          "model_module": "jupyter-vuetify",
          "model_module_version": "^1.8.10",
          "model_name": "VuetifyTemplateModel",
          "state": {
            "_component_instances": [],
            "_dom_classes": [],
            "_jupyter_vue": "IPY_MODEL_2797283294ff4825a1fb50aa1c6ac9f6",
            "_model_module": "jupyter-vuetify",
            "_model_module_version": "^1.8.10",
            "_model_name": "VuetifyTemplateModel",
            "_view_count": null,
            "_view_module": "jupyter-vuetify",
            "_view_module_version": "^1.8.10",
            "_view_name": "VuetifyView",
            "children": [],
            "components": null,
            "css": null,
            "data": null,
            "events": [],
            "figure": "IPY_MODEL_6d9be9bf1d03425b899b0e18364c061e",
            "layout": "IPY_MODEL_d5c29923c1a74f0881f58f7b67078818",
            "legend": "IPY_MODEL_f9a93d3f779146a5bfb98c54cbefd70f",
            "legend_show": true,
            "methods": null,
            "models": {
              "figure": {
                "show": "render"
              }
            },
            "panels": [
              0,
              1,
              2
            ],
            "template": "IPY_MODEL_54090b4ff19049e4b682599cdf4878e8"
          }
        },
        "de72ad53fde640a1bc1a9ac44b0a2510": {
          "model_module": "bqplot",
          "model_module_version": "^0.5",
          "model_name": "LinearScaleModel",
          "state": {
            "_model_module": "bqplot",
            "_model_module_version": "^0.5",
            "_model_name": "LinearScaleModel",
            "_view_count": null,
            "_view_module": "bqplot",
            "_view_module_version": "^0.5",
            "_view_name": "LinearScale",
            "allow_padding": true,
            "max": 1,
            "mid_range": 0.8,
            "min": 0,
            "min_range": 0.6,
            "reverse": false,
            "stabilized": false
          }
        },
        "e2983540055a4bb995b0c137c6334fee": {
          "model_module": "jupyter-threejs",
          "model_module_version": "^2.4.1",
          "model_name": "PerspectiveCameraModel",
          "state": {
            "_model_module": "jupyter-threejs",
            "_model_module_version": "^2.4.1",
            "_model_name": "PerspectiveCameraModel",
            "_view_count": null,
            "_view_module": null,
            "_view_module_version": "",
            "_view_name": null,
            "aspect": 1,
            "castShadow": false,
            "children": [],
            "far": 2000,
            "focus": 10,
            "fov": 45,
            "frustumCulled": true,
            "matrix": [
              -0.8342469432492281,
              0.29117333841727905,
              0.4682415238680314,
              0,
              0.360223999672411,
              0.9307344270753988,
              0.06302456915076915,
              0,
              -0.4174574322482838,
              0.2212498887040757,
              -0.8813499753271137,
              0,
              -0.8349148644965643,
              0.4424997774081496,
              -1.7626999506542202,
              1
            ],
            "matrixAutoUpdate": true,
            "matrixWorld": [
              -0.8342469432492281,
              0.29117333841727905,
              0.4682415238680314,
              0,
              0.360223999672411,
              0.9307344270753988,
              0.06302456915076915,
              0,
              -0.4174574322482838,
              0.2212498887040757,
              -0.8813499753271137,
              0,
              -0.8349148644965643,
              0.4424997774081496,
              -1.7626999506542202,
              1
            ],
            "matrixWorldInverse": [
              -0.8342469432492278,
              0.3602239996724109,
              -0.4174574322482837,
              0,
              0.2911733384172791,
              0.9307344270753989,
              0.22124988870407566,
              0,
              0.46824152386803136,
              0.06302456915076918,
              -0.8813499753271136,
              0,
              -2.7755575615628907e-17,
              0,
              -1.999999999999992,
              1
            ],
            "matrixWorldNeedsUpdate": true,
            "modelViewMatrix": [
              1,
              0,
              0,
              0,
              0,
              1,
              0,
              0,
              0,
              0,
              1,
              0,
              0,
              0,
              0,
              1
            ],
            "name": "",
            "near": 0.1,
            "normalMatrix": [
              1,
              0,
              0,
              0,
              1,
              0,
              0,
              0,
              1
            ],
            "position": [
              -0.8349148644965643,
              0.4424997774081496,
              -1.7626999506542202
            ],
            "projectionMatrix": [
              2.4142135623730954,
              0,
              0,
              0,
              0,
              2.4142135623730954,
              0,
              0,
              0,
              0,
              -1.00010000500025,
              -1,
              0,
              0,
              -0.200010000500025,
              0
            ],
            "quaternion": [
              0.17056421444905062,
              0.9547684726743626,
              0.07443544324902544,
              -0.2319145901506939
            ],
            "receiveShadow": false,
            "renderOrder": 0,
            "rotation": [
              -2.895639899331003,
              -0.4306454772390793,
              -2.733980342497786,
              "XYZ"
            ],
            "scale": [
              1,
              1,
              1
            ],
            "type": "PerspectiveCamera",
            "up": [
              0.360223999672411,
              0.9307344270753989,
              0.06302456915076915
            ],
            "visible": true,
            "zoom": 1
          }
        },
        "e4227e0ebe324c258bb7b3c2a908c2fb": {
          "model_module": "jupyter-vue",
          "model_module_version": "^1.10.1",
          "model_name": "TemplateModel",
          "state": {
            "_model_module": "jupyter-vue",
            "_model_module_version": "^1.10.1",
            "_model_name": "TemplateModel",
            "_view_count": null,
            "_view_module": null,
            "_view_module_version": "",
            "_view_name": null,
            "template": "<template>\n    <div style=\"padding: 5px;\">\n        <div v-for=\"(mark, index) in marks\" :key=\"index\">\n            <v-checkbox hide-details dense style=\"margin-top: 0px; padding-top 0px\"\n                v-model=\"mark.visible\"\n                off-icon=\"mdi-eye-off\"\n                :on-icon=\"mark.icon\"\n                :color=\"mark.description_color\"\n                :background-color=\"mark.hovered ? '#ccc' : 'unset'\"\n                :label=\"mark.description\"></v-checkbox>\n        </div>\n    </div>\n</template>\n<style id=\"fruit-selector-style-file\">\n    .fruit-selector-file td {\n        border: 1px solid #999;\n        padding: 5px 10px ;\n    }\n    .fruit-selector-file {\n        border-collapse: collapse;\n    }\n    .fruit-selector-file td.selected {\n        width: 50px;\n    }\n    .ipv-main-container {\n        background-color: white;\n    }\n    .ipv-main-container:fullscreen {\n        display: flex;\n        justify-content: center;\n        align-items: center;\n        align-items: center;\n    }\n</style>\n<script>\n    module.export = {\n        mounted() {\n            (async () => {\n                const figureWidgetModel = await this.viewCtx.getModelById(this.figure.substr(10));\n                console.log('figure', figureWidgetModel);\n                this.$set(this.models, 'figure', this.bbproxy(figureWidgetModel, [\"stereo\"], {\n                    \"scatters\": [\"visible\", \"description\", \"icon\", \"description_color\", \"hovered\"],\n                    \"meshes\": [\"visible\", \"description\", \"icon\", \"description_color\", \"hovered\"],\n                    \"volumes\": [\"visible\", \"description\", \"icon\", \"description_color\", \"hovered\"],\n                }));\n            })();\n        },\n        computed: {\n            marks() {\n                return [...this.models.figure.scatters, ...this.models.figure.meshes, ...this.models.figure.volumes]\n            },\n            // anyhover() {\n            //     if(this.models.scatters) {\n\n            //     }\n            //     return this.models.scatters && !this.models.scatters.every((s) => !s.hovered)\n            // }\n        },\n        methods: {\n            bbproxy(model, attrs, widgetAttrs) {\n                const proxy = {}\n\n                attrs.forEach((attr) => {\n                    console.log('setting', attr)\n                    let valueCopy = model.get(attr);\n                    model.on('change:' + attr, (_widget, value) => {\n                        proxy[attr] = value\n                    })\n                    Object.defineProperty(proxy, attr, {\n                        enumerable: true,\n                        configurable: true,                            \n                        get: () => {\n                            return valueCopy;\n                        },\n                        set: (value) => {\n                            valueCopy = value;\n                            model.set(attr, value);\n                            model.save_changes();\n                        },\n                    });\n                })\n                if(widgetAttrs) {\n                    Object.keys(widgetAttrs).forEach((attr) => {\n                        console.log('setting list', attr)\n                        let listValue = model.get(attr);\n                        let listValueProxy = [];\n                        if(listValue) {\n                            listValueProxy = listValue.map((k) => this.bbproxy(k, widgetAttrs[attr]));\n                        }\n                        model.on('change:' + attr, (_widget, value) => {\n                            console.log('changed list', attr, value)\n                            if(value) {\n                                proxy[attr] = value.map((k) => this.bbproxy(k, widgetAttrs[attr]))\n                            } else {\n                                proxy[attr] = null;\n                            }\n                        });\n\n                        Object.defineProperty(proxy, attr, {\n                            enumerable: true,\n                            configurable: true,                            \n                            get: () => {\n                                return listValueProxy;\n                            },\n                            set: (value) => {\n                                listValueProxy = value;\n                                console.log('ignore propagating set')\n                            },\n                        });\n                    })\n                }\n\n                return proxy;\n            },\n        }\n    }\n\n</script>\n"
          }
        },
        "e8e1525f77544820992121ae0d8eda83": {
          "model_module": "@jupyter-widgets/base",
          "model_module_version": "1.2.0",
          "model_name": "LayoutModel",
          "state": {
            "_model_module": "@jupyter-widgets/base",
            "_model_module_version": "1.2.0",
            "_model_name": "LayoutModel",
            "_view_count": null,
            "_view_module": "@jupyter-widgets/base",
            "_view_module_version": "1.2.0",
            "_view_name": "LayoutView",
            "align_content": null,
            "align_items": null,
            "align_self": null,
            "border": null,
            "bottom": null,
            "display": null,
            "flex": null,
            "flex_flow": null,
            "grid_area": null,
            "grid_auto_columns": null,
            "grid_auto_flow": null,
            "grid_auto_rows": null,
            "grid_column": null,
            "grid_gap": null,
            "grid_row": null,
            "grid_template_areas": null,
            "grid_template_columns": null,
            "grid_template_rows": null,
            "height": null,
            "justify_content": null,
            "justify_items": null,
            "left": null,
            "margin": null,
            "max_height": null,
            "max_width": null,
            "min_height": null,
            "min_width": null,
            "object_fit": null,
            "object_position": null,
            "order": null,
            "overflow": null,
            "overflow_x": null,
            "overflow_y": null,
            "padding": null,
            "right": null,
            "top": null,
            "visibility": null,
            "width": null
          }
        },
        "ee2312dfdc334d4ba407700ff084c812": {
          "model_module": "jupyter-threejs",
          "model_module_version": "^2.4.1",
          "model_name": "SceneModel",
          "state": {
            "_model_module": "jupyter-threejs",
            "_model_module_version": "^2.4.1",
            "_model_name": "SceneModel",
            "_view_count": null,
            "_view_module": null,
            "_view_module_version": "",
            "_view_name": null,
            "autoUpdate": true,
            "background": null,
            "castShadow": false,
            "children": [],
            "fog": null,
            "frustumCulled": true,
            "matrix": [
              1,
              0,
              0,
              0,
              0,
              1,
              0,
              0,
              0,
              0,
              1,
              0,
              0,
              0,
              0,
              1
            ],
            "matrixAutoUpdate": true,
            "matrixWorld": [
              1,
              0,
              0,
              0,
              0,
              1,
              0,
              0,
              0,
              0,
              1,
              0,
              0,
              0,
              0,
              1
            ],
            "matrixWorldNeedsUpdate": false,
            "modelViewMatrix": [
              1,
              0,
              0,
              0,
              0,
              1,
              0,
              0,
              0,
              0,
              1,
              0,
              0,
              0,
              0,
              1
            ],
            "name": "",
            "normalMatrix": [
              1,
              0,
              0,
              0,
              1,
              0,
              0,
              0,
              1
            ],
            "overrideMaterial": null,
            "position": [
              0,
              0,
              0
            ],
            "quaternion": [
              0,
              0,
              0,
              1
            ],
            "receiveShadow": false,
            "renderOrder": 0,
            "rotation": [
              0,
              0,
              0,
              "XYZ"
            ],
            "scale": [
              1,
              1,
              1
            ],
            "type": "Scene",
            "up": [
              0,
              1,
              0
            ],
            "visible": true
          }
        },
        "f1054625a94e4005af1c6da90e52efd3": {
          "model_module": "jupyter-threejs",
          "model_module_version": "^2.4.1",
          "model_name": "PerspectiveCameraModel",
          "state": {
            "_model_module": "jupyter-threejs",
            "_model_module_version": "^2.4.1",
            "_model_name": "PerspectiveCameraModel",
            "_view_count": null,
            "_view_module": null,
            "_view_module_version": "",
            "_view_name": null,
            "aspect": 1,
            "castShadow": false,
            "children": [],
            "far": 2000,
            "focus": 10,
            "fov": 45,
            "frustumCulled": true,
            "matrix": [
              1,
              0,
              0,
              0,
              0,
              1,
              -6.123233995736766e-17,
              0,
              0,
              6.123233995736766e-17,
              1,
              0,
              0,
              1.2246467991473532e-16,
              2,
              1
            ],
            "matrixAutoUpdate": true,
            "matrixWorld": [
              1,
              0,
              0,
              0,
              0,
              1,
              -6.123233995736766e-17,
              0,
              0,
              6.123233995736766e-17,
              1,
              0,
              0,
              1.2246467991473532e-16,
              2,
              1
            ],
            "matrixWorldInverse": [
              1,
              0,
              0,
              0,
              0,
              1,
              6.123233995736766e-17,
              0,
              0,
              -6.123233995736766e-17,
              1,
              0,
              0,
              0,
              -2,
              1
            ],
            "matrixWorldNeedsUpdate": true,
            "modelViewMatrix": [
              1,
              0,
              0,
              0,
              0,
              1,
              0,
              0,
              0,
              0,
              1,
              0,
              0,
              0,
              0,
              1
            ],
            "name": "",
            "near": 0.1,
            "normalMatrix": [
              1,
              0,
              0,
              0,
              1,
              0,
              0,
              0,
              1
            ],
            "position": [
              0,
              1.2246467991473532e-16,
              2
            ],
            "projectionMatrix": [
              2.4142135623730954,
              0,
              0,
              0,
              0,
              2.4142135623730954,
              0,
              0,
              0,
              0,
              -1.00010000500025,
              -1,
              0,
              0,
              -0.200010000500025,
              0
            ],
            "quaternion": [
              -3.061616997868383e-17,
              0,
              0,
              1
            ],
            "receiveShadow": false,
            "renderOrder": 0,
            "rotation": [
              -6.123233995736766e-17,
              0,
              0,
              "XYZ"
            ],
            "scale": [
              1,
              1,
              1
            ],
            "type": "PerspectiveCamera",
            "up": [
              0,
              1,
              -6.123233995736766e-17
            ],
            "visible": true,
            "zoom": 1
          }
        },
        "f7c9591056f54f81b5f806c7b75e46b3": {
          "model_module": "jupyter-threejs",
          "model_module_version": "^2.4.1",
          "model_name": "PerspectiveCameraModel",
          "state": {
            "_model_module": "jupyter-threejs",
            "_model_module_version": "^2.4.1",
            "_model_name": "PerspectiveCameraModel",
            "_view_count": null,
            "_view_module": null,
            "_view_module_version": "",
            "_view_name": null,
            "aspect": 1,
            "castShadow": false,
            "children": [],
            "far": 2000,
            "focus": 10,
            "fov": 45,
            "frustumCulled": true,
            "matrix": [
              -0.8273531118070747,
              0.5499033017989554,
              0.11442546505807608,
              0,
              0.07238734590450277,
              0.30641031949961417,
              -0.9491431863828799,
              0,
              -0.556998115379264,
              -0.7769936130849155,
              -0.2933155718491547,
              0,
              -1.1894582133881733,
              -1.6592541506261829,
              -0.6263694731050697,
              1
            ],
            "matrixAutoUpdate": true,
            "matrixWorld": [
              -0.8273531118070747,
              0.5499033017989554,
              0.11442546505807608,
              0,
              0.07238734590450277,
              0.30641031949961417,
              -0.9491431863828799,
              0,
              -0.556998115379264,
              -0.7769936130849155,
              -0.2933155718491547,
              0,
              -1.1894582133881733,
              -1.6592541506261829,
              -0.6263694731050697,
              1
            ],
            "matrixWorldInverse": [
              -0.8273531118070748,
              0.0723873459045026,
              -0.556998115379264,
              0,
              0.5499033017989554,
              0.30641031949961395,
              -0.7769936130849153,
              0,
              0.11442546505807608,
              -0.9491431863828799,
              -0.29331557184915497,
              0,
              2.3592239273284576e-16,
              -8.326672684688674e-16,
              -2.1354797808934465,
              1
            ],
            "matrixWorldNeedsUpdate": true,
            "modelViewMatrix": [
              1,
              0,
              0,
              0,
              0,
              1,
              0,
              0,
              0,
              0,
              1,
              0,
              0,
              0,
              0,
              1
            ],
            "name": "",
            "near": 0.1,
            "normalMatrix": [
              1,
              0,
              0,
              0,
              1,
              0,
              0,
              0,
              1
            ],
            "position": [
              -1.1894582133881733,
              -1.6592541506261829,
              -0.6263694731050697
            ],
            "projectionMatrix": [
              2.4142135623730954,
              0,
              0,
              0,
              0,
              2.4142135623730954,
              0,
              0,
              0,
              0,
              -1.00010000500025,
              -1,
              0,
              0,
              -0.200010000500025,
              0
            ],
            "quaternion": [
              0.19971989168737425,
              0.7789542674566723,
              -0.5539917013047907,
              -0.2154887675978637
            ],
            "receiveShadow": false,
            "renderOrder": 0,
            "rotation": [
              1.9317575183905817,
              -0.5907669093074916,
              -3.0543221992140928,
              "XYZ"
            ],
            "scale": [
              1,
              1,
              1
            ],
            "type": "PerspectiveCamera",
            "up": [
              0.07238734590450277,
              0.3064103194996141,
              -0.9491431863828799
            ],
            "visible": true,
            "zoom": 1
          }
        },
        "f9a93d3f779146a5bfb98c54cbefd70f": {
          "model_module": "jupyter-vuetify",
          "model_module_version": "^1.8.10",
          "model_name": "VuetifyTemplateModel",
          "state": {
            "_component_instances": [],
            "_dom_classes": [],
            "_jupyter_vue": "IPY_MODEL_2797283294ff4825a1fb50aa1c6ac9f6",
            "_model_module": "jupyter-vuetify",
            "_model_module_version": "^1.8.10",
            "_model_name": "VuetifyTemplateModel",
            "_view_count": null,
            "_view_module": "jupyter-vuetify",
            "_view_module_version": "^1.8.10",
            "_view_name": "VuetifyView",
            "components": null,
            "css": null,
            "data": null,
            "events": [],
            "figure": "IPY_MODEL_6d9be9bf1d03425b899b0e18364c061e",
            "layout": "IPY_MODEL_01329d4b71484b26839a0ad7e03e3fa0",
            "methods": null,
            "models": {
              "figure": {
                "meshes": [],
                "scatters": [
                  {
                    "description": "Scatter 0",
                    "description_color": "red",
                    "hovered": false,
                    "icon": "mdi-chart-bubble",
                    "visible": true
                  }
                ],
                "stereo": false,
                "volumes": []
              }
            },
            "template": "IPY_MODEL_fccefc6b6eec47c7b06e30ca426d3899"
          }
        },
        "f9c89db3a58444859cce1662a4d0b29f": {
          "model_module": "bqplot",
          "model_module_version": "^0.5",
          "model_name": "LinearScaleModel",
          "state": {
            "_model_module": "bqplot",
            "_model_module_version": "^0.5",
            "_model_name": "LinearScaleModel",
            "_view_count": null,
            "_view_module": "bqplot",
            "_view_module_version": "^0.5",
            "_view_name": "LinearScale",
            "allow_padding": true,
            "max": 1,
            "mid_range": 0.8,
            "min": 0,
            "min_range": 0.6,
            "reverse": false,
            "stabilized": false
          }
        },
        "fccefc6b6eec47c7b06e30ca426d3899": {
          "model_module": "jupyter-vue",
          "model_module_version": "^1.10.1",
          "model_name": "TemplateModel",
          "state": {
            "_model_module": "jupyter-vue",
            "_model_module_version": "^1.10.1",
            "_model_name": "TemplateModel",
            "_view_count": null,
            "_view_module": null,
            "_view_module_version": "",
            "_view_name": null,
            "template": "<template>\n    <div style=\"padding: 5px;\">\n        <div v-for=\"(mark, index) in marks\" :key=\"index\">\n            <v-checkbox hide-details dense style=\"margin-top: 0px; padding-top 0px\"\n                v-model=\"mark.visible\"\n                off-icon=\"mdi-eye-off\"\n                :on-icon=\"mark.icon\"\n                :color=\"mark.description_color\"\n                :background-color=\"mark.hovered ? '#ccc' : 'unset'\"\n                :label=\"mark.description\"></v-checkbox>\n        </div>\n    </div>\n</template>\n<style id=\"fruit-selector-style-file\">\n    .fruit-selector-file td {\n        border: 1px solid #999;\n        padding: 5px 10px ;\n    }\n    .fruit-selector-file {\n        border-collapse: collapse;\n    }\n    .fruit-selector-file td.selected {\n        width: 50px;\n    }\n    .ipv-main-container {\n        background-color: white;\n    }\n    .ipv-main-container:fullscreen {\n        display: flex;\n        justify-content: center;\n        align-items: center;\n        align-items: center;\n    }\n</style>\n<script>\n    module.export = {\n        mounted() {\n            (async () => {\n                const figureWidgetModel = await this.viewCtx.getModelById(this.figure.substr(10));\n                console.log('figure', figureWidgetModel);\n                this.$set(this.models, 'figure', this.bbproxy(figureWidgetModel, [\"stereo\"], {\n                    \"scatters\": [\"visible\", \"description\", \"icon\", \"description_color\", \"hovered\"],\n                    \"meshes\": [\"visible\", \"description\", \"icon\", \"description_color\", \"hovered\"],\n                    \"volumes\": [\"visible\", \"description\", \"icon\", \"description_color\", \"hovered\"],\n                }));\n            })();\n        },\n        computed: {\n            marks() {\n                return [...this.models.figure.scatters, ...this.models.figure.meshes, ...this.models.figure.volumes]\n            },\n            // anyhover() {\n            //     if(this.models.scatters) {\n\n            //     }\n            //     return this.models.scatters && !this.models.scatters.every((s) => !s.hovered)\n            // }\n        },\n        methods: {\n            bbproxy(model, attrs, widgetAttrs) {\n                const proxy = {}\n\n                attrs.forEach((attr) => {\n                    console.log('setting', attr)\n                    let valueCopy = model.get(attr);\n                    model.on('change:' + attr, (_widget, value) => {\n                        proxy[attr] = value\n                    })\n                    Object.defineProperty(proxy, attr, {\n                        enumerable: true,\n                        configurable: true,                            \n                        get: () => {\n                            return valueCopy;\n                        },\n                        set: (value) => {\n                            valueCopy = value;\n                            model.set(attr, value);\n                            model.save_changes();\n                        },\n                    });\n                })\n                if(widgetAttrs) {\n                    Object.keys(widgetAttrs).forEach((attr) => {\n                        console.log('setting list', attr)\n                        let listValue = model.get(attr);\n                        let listValueProxy = [];\n                        if(listValue) {\n                            listValueProxy = listValue.map((k) => this.bbproxy(k, widgetAttrs[attr]));\n                        }\n                        model.on('change:' + attr, (_widget, value) => {\n                            console.log('changed list', attr, value)\n                            if(value) {\n                                proxy[attr] = value.map((k) => this.bbproxy(k, widgetAttrs[attr]))\n                            } else {\n                                proxy[attr] = null;\n                            }\n                        });\n\n                        Object.defineProperty(proxy, attr, {\n                            enumerable: true,\n                            configurable: true,                            \n                            get: () => {\n                                return listValueProxy;\n                            },\n                            set: (value) => {\n                                listValueProxy = value;\n                                console.log('ignore propagating set')\n                            },\n                        });\n                    })\n                }\n\n                return proxy;\n            },\n        }\n    }\n\n</script>\n"
          }
        },
        "fe570fa2ae1248a89efb99099d2b6d1f": {
          "model_module": "@jupyter-widgets/base",
          "model_module_version": "1.2.0",
          "model_name": "LayoutModel",
          "state": {
            "_model_module": "@jupyter-widgets/base",
            "_model_module_version": "1.2.0",
            "_model_name": "LayoutModel",
            "_view_count": null,
            "_view_module": "@jupyter-widgets/base",
            "_view_module_version": "1.2.0",
            "_view_name": "LayoutView",
            "align_content": null,
            "align_items": null,
            "align_self": null,
            "border": null,
            "bottom": null,
            "display": null,
            "flex": null,
            "flex_flow": null,
            "grid_area": null,
            "grid_auto_columns": null,
            "grid_auto_flow": null,
            "grid_auto_rows": null,
            "grid_column": null,
            "grid_gap": null,
            "grid_row": null,
            "grid_template_areas": null,
            "grid_template_columns": null,
            "grid_template_rows": null,
            "height": null,
            "justify_content": null,
            "justify_items": null,
            "left": null,
            "margin": null,
            "max_height": null,
            "max_width": null,
            "min_height": null,
            "min_width": null,
            "object_fit": null,
            "object_position": null,
            "order": null,
            "overflow": null,
            "overflow_x": null,
            "overflow_y": null,
            "padding": null,
            "right": null,
            "top": null,
            "visibility": null,
            "width": null
          }
        }
      }
    }
  },
  "nbformat": 4,
  "nbformat_minor": 0
}
